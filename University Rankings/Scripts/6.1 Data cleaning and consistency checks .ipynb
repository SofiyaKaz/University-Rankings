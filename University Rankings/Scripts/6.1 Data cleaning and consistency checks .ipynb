{
 "cells": [
  {
   "cell_type": "markdown",
   "id": "13946c0a-88fb-46f8-8f0c-15160ddf98a3",
   "metadata": {},
   "source": [
    "# Data cleaning"
   ]
  },
  {
   "cell_type": "code",
   "execution_count": 1,
   "id": "94e609e3-6898-4049-a51e-41df6b163de3",
   "metadata": {},
   "outputs": [],
   "source": [
    "# import libraries\n",
    "import pandas as pd\n",
    "import numpy as np\n",
    "import os"
   ]
  },
  {
   "cell_type": "code",
   "execution_count": 3,
   "id": "d0314a5d-a266-4118-bb63-fc7a004b55ca",
   "metadata": {},
   "outputs": [],
   "source": [
    "path=r'/Users/sofiakazeko/Jupiter/Achievement 6 - University Rankings'"
   ]
  },
  {
   "cell_type": "code",
   "execution_count": 4,
   "id": "0cf6b7f2-e719-44e0-97ba-afe6c18ac0c9",
   "metadata": {},
   "outputs": [],
   "source": [
    "df_cwur = pd.read_csv(os.path.join(path, '02 Data', 'Original Data', 'cwurData.csv'), index_col = False)"
   ]
  },
  {
   "cell_type": "code",
   "execution_count": 5,
   "id": "dc220d73-4531-44b7-84bb-32954169f435",
   "metadata": {},
   "outputs": [
    {
     "data": {
      "text/html": [
       "<div>\n",
       "<style scoped>\n",
       "    .dataframe tbody tr th:only-of-type {\n",
       "        vertical-align: middle;\n",
       "    }\n",
       "\n",
       "    .dataframe tbody tr th {\n",
       "        vertical-align: top;\n",
       "    }\n",
       "\n",
       "    .dataframe thead th {\n",
       "        text-align: right;\n",
       "    }\n",
       "</style>\n",
       "<table border=\"1\" class=\"dataframe\">\n",
       "  <thead>\n",
       "    <tr style=\"text-align: right;\">\n",
       "      <th></th>\n",
       "      <th>world_rank</th>\n",
       "      <th>institution</th>\n",
       "      <th>country</th>\n",
       "      <th>national_rank</th>\n",
       "      <th>quality_of_education</th>\n",
       "      <th>alumni_employment</th>\n",
       "      <th>quality_of_faculty</th>\n",
       "      <th>publications</th>\n",
       "      <th>influence</th>\n",
       "      <th>citations</th>\n",
       "      <th>broad_impact</th>\n",
       "      <th>patents</th>\n",
       "      <th>score</th>\n",
       "      <th>year</th>\n",
       "    </tr>\n",
       "  </thead>\n",
       "  <tbody>\n",
       "    <tr>\n",
       "      <th>0</th>\n",
       "      <td>1</td>\n",
       "      <td>Harvard University</td>\n",
       "      <td>USA</td>\n",
       "      <td>1</td>\n",
       "      <td>7</td>\n",
       "      <td>9</td>\n",
       "      <td>1</td>\n",
       "      <td>1</td>\n",
       "      <td>1</td>\n",
       "      <td>1</td>\n",
       "      <td>NaN</td>\n",
       "      <td>5</td>\n",
       "      <td>100.00</td>\n",
       "      <td>2012</td>\n",
       "    </tr>\n",
       "    <tr>\n",
       "      <th>1</th>\n",
       "      <td>2</td>\n",
       "      <td>Massachusetts Institute of Technology</td>\n",
       "      <td>USA</td>\n",
       "      <td>2</td>\n",
       "      <td>9</td>\n",
       "      <td>17</td>\n",
       "      <td>3</td>\n",
       "      <td>12</td>\n",
       "      <td>4</td>\n",
       "      <td>4</td>\n",
       "      <td>NaN</td>\n",
       "      <td>1</td>\n",
       "      <td>91.67</td>\n",
       "      <td>2012</td>\n",
       "    </tr>\n",
       "    <tr>\n",
       "      <th>2</th>\n",
       "      <td>3</td>\n",
       "      <td>Stanford University</td>\n",
       "      <td>USA</td>\n",
       "      <td>3</td>\n",
       "      <td>17</td>\n",
       "      <td>11</td>\n",
       "      <td>5</td>\n",
       "      <td>4</td>\n",
       "      <td>2</td>\n",
       "      <td>2</td>\n",
       "      <td>NaN</td>\n",
       "      <td>15</td>\n",
       "      <td>89.50</td>\n",
       "      <td>2012</td>\n",
       "    </tr>\n",
       "    <tr>\n",
       "      <th>3</th>\n",
       "      <td>4</td>\n",
       "      <td>University of Cambridge</td>\n",
       "      <td>United Kingdom</td>\n",
       "      <td>1</td>\n",
       "      <td>10</td>\n",
       "      <td>24</td>\n",
       "      <td>4</td>\n",
       "      <td>16</td>\n",
       "      <td>16</td>\n",
       "      <td>11</td>\n",
       "      <td>NaN</td>\n",
       "      <td>50</td>\n",
       "      <td>86.17</td>\n",
       "      <td>2012</td>\n",
       "    </tr>\n",
       "    <tr>\n",
       "      <th>4</th>\n",
       "      <td>5</td>\n",
       "      <td>California Institute of Technology</td>\n",
       "      <td>USA</td>\n",
       "      <td>4</td>\n",
       "      <td>2</td>\n",
       "      <td>29</td>\n",
       "      <td>7</td>\n",
       "      <td>37</td>\n",
       "      <td>22</td>\n",
       "      <td>22</td>\n",
       "      <td>NaN</td>\n",
       "      <td>18</td>\n",
       "      <td>85.21</td>\n",
       "      <td>2012</td>\n",
       "    </tr>\n",
       "  </tbody>\n",
       "</table>\n",
       "</div>"
      ],
      "text/plain": [
       "   world_rank                            institution         country  \\\n",
       "0           1                     Harvard University             USA   \n",
       "1           2  Massachusetts Institute of Technology             USA   \n",
       "2           3                    Stanford University             USA   \n",
       "3           4                University of Cambridge  United Kingdom   \n",
       "4           5     California Institute of Technology             USA   \n",
       "\n",
       "   national_rank  quality_of_education  alumni_employment  quality_of_faculty  \\\n",
       "0              1                     7                  9                   1   \n",
       "1              2                     9                 17                   3   \n",
       "2              3                    17                 11                   5   \n",
       "3              1                    10                 24                   4   \n",
       "4              4                     2                 29                   7   \n",
       "\n",
       "   publications  influence  citations  broad_impact  patents   score  year  \n",
       "0             1          1          1           NaN        5  100.00  2012  \n",
       "1            12          4          4           NaN        1   91.67  2012  \n",
       "2             4          2          2           NaN       15   89.50  2012  \n",
       "3            16         16         11           NaN       50   86.17  2012  \n",
       "4            37         22         22           NaN       18   85.21  2012  "
      ]
     },
     "execution_count": 5,
     "metadata": {},
     "output_type": "execute_result"
    }
   ],
   "source": [
    "df_cwur.head()"
   ]
  },
  {
   "cell_type": "code",
   "execution_count": 6,
   "id": "7996a7fe-3ef0-4bab-92e9-55cc982ddbc9",
   "metadata": {},
   "outputs": [
    {
     "data": {
      "text/plain": [
       "world_rank                0\n",
       "institution               0\n",
       "country                   0\n",
       "national_rank             0\n",
       "quality_of_education      0\n",
       "alumni_employment         0\n",
       "quality_of_faculty        0\n",
       "publications              0\n",
       "influence                 0\n",
       "citations                 0\n",
       "broad_impact            200\n",
       "patents                   0\n",
       "score                     0\n",
       "year                      0\n",
       "dtype: int64"
      ]
     },
     "execution_count": 6,
     "metadata": {},
     "output_type": "execute_result"
    }
   ],
   "source": [
    "#Finding Missing Values\n",
    "df_cwur.isnull().sum()"
   ]
  },
  {
   "cell_type": "code",
   "execution_count": 8,
   "id": "103c08a7-2422-4f0b-af37-42009417f796",
   "metadata": {},
   "outputs": [
    {
     "data": {
      "text/plain": [
       "(2200, 14)"
      ]
     },
     "execution_count": 8,
     "metadata": {},
     "output_type": "execute_result"
    }
   ],
   "source": [
    "df_cwur.shape"
   ]
  },
  {
   "cell_type": "markdown",
   "id": "ee89a57b-f3f2-46dc-a0ea-9af4748d8bc2",
   "metadata": {},
   "source": [
    "Since \"Broad Impact\" in CWUR is based on the h-index (which measures research influence), the best way to handle missing values is to keep it as is for transparency. If the \"Broad Impact\" column is empty for certain universities, it may be due to insufficient data to calculate a meaningful h-index, possibly resulting from a lower volume of published research or fewer citations. Leaving it as NaN accurately reflects that it does not have a measurable broad impact. If needed for analysis \"Missing Impact\" column can be created to track universities without h-index data"
   ]
  },
  {
   "cell_type": "code",
   "execution_count": 9,
   "id": "d001fcf1-1d42-481a-b855-bb0b853a0194",
   "metadata": {},
   "outputs": [],
   "source": [
    "#check for mixed types\n",
    "for col in df_cwur.columns.tolist():\n",
    "  weird = (df_cwur[[col]].map(type) != df_cwur[[col]].iloc[0].apply(type)).any(axis = 1)\n",
    "  if len (df_cwur[weird]) > 0:\n",
    "    print (col)"
   ]
  },
  {
   "cell_type": "code",
   "execution_count": 39,
   "id": "0a691e02-8608-4275-b745-1603dc11bd2a",
   "metadata": {},
   "outputs": [],
   "source": [
    "#finding duplicates\n",
    "df_dups1 = df_cwur[df_cwur.duplicated()]"
   ]
  },
  {
   "cell_type": "code",
   "execution_count": 40,
   "id": "3dd656a9-0110-455a-afcf-1f438fb52898",
   "metadata": {
    "scrolled": true
   },
   "outputs": [
    {
     "data": {
      "text/html": [
       "<div>\n",
       "<style scoped>\n",
       "    .dataframe tbody tr th:only-of-type {\n",
       "        vertical-align: middle;\n",
       "    }\n",
       "\n",
       "    .dataframe tbody tr th {\n",
       "        vertical-align: top;\n",
       "    }\n",
       "\n",
       "    .dataframe thead th {\n",
       "        text-align: right;\n",
       "    }\n",
       "</style>\n",
       "<table border=\"1\" class=\"dataframe\">\n",
       "  <thead>\n",
       "    <tr style=\"text-align: right;\">\n",
       "      <th></th>\n",
       "      <th>world_rank</th>\n",
       "      <th>institution</th>\n",
       "      <th>country</th>\n",
       "      <th>national_rank</th>\n",
       "      <th>quality_of_education</th>\n",
       "      <th>alumni_employment</th>\n",
       "      <th>quality_of_faculty</th>\n",
       "      <th>publications</th>\n",
       "      <th>influence</th>\n",
       "      <th>citations</th>\n",
       "      <th>broad_impact</th>\n",
       "      <th>patents</th>\n",
       "      <th>score</th>\n",
       "      <th>year</th>\n",
       "    </tr>\n",
       "  </thead>\n",
       "  <tbody>\n",
       "  </tbody>\n",
       "</table>\n",
       "</div>"
      ],
      "text/plain": [
       "Empty DataFrame\n",
       "Columns: [world_rank, institution, country, national_rank, quality_of_education, alumni_employment, quality_of_faculty, publications, influence, citations, broad_impact, patents, score, year]\n",
       "Index: []"
      ]
     },
     "execution_count": 40,
     "metadata": {},
     "output_type": "execute_result"
    }
   ],
   "source": [
    "df_dups1"
   ]
  },
  {
   "cell_type": "code",
   "execution_count": 71,
   "id": "07023ac2-e9cb-4c3d-8263-acd5c63fd580",
   "metadata": {},
   "outputs": [
    {
     "data": {
      "text/plain": [
       "<bound method NDFrame.describe of       world_rank                            institution         country  \\\n",
       "0              1                     Harvard University             USA   \n",
       "1              2  Massachusetts Institute of Technology             USA   \n",
       "2              3                    Stanford University             USA   \n",
       "3              4                University of Cambridge  United Kingdom   \n",
       "4              5     California Institute of Technology             USA   \n",
       "...          ...                                    ...             ...   \n",
       "2195         996              University of the Algarve        Portugal   \n",
       "2196         997                  Alexandria University           Egypt   \n",
       "2197         998            Federal University of Ceará          Brazil   \n",
       "2198         999                 University of A Coruña           Spain   \n",
       "2199        1000        China Pharmaceutical University           China   \n",
       "\n",
       "      national_rank  quality_of_education  alumni_employment  \\\n",
       "0                 1                     7                  9   \n",
       "1                 2                     9                 17   \n",
       "2                 3                    17                 11   \n",
       "3                 1                    10                 24   \n",
       "4                 4                     2                 29   \n",
       "...             ...                   ...                ...   \n",
       "2195              7                   367                567   \n",
       "2196              4                   236                566   \n",
       "2197             18                   367                549   \n",
       "2198             40                   367                567   \n",
       "2199             83                   367                567   \n",
       "\n",
       "      quality_of_faculty  publications  influence  citations  broad_impact  \\\n",
       "0                      1             1          1          1           NaN   \n",
       "1                      3            12          4          4           NaN   \n",
       "2                      5             4          2          2           NaN   \n",
       "3                      4            16         16         11           NaN   \n",
       "4                      7            37         22         22           NaN   \n",
       "...                  ...           ...        ...        ...           ...   \n",
       "2195                 218           926        845        812         969.0   \n",
       "2196                 218           997        908        645         981.0   \n",
       "2197                 218           830        823        812         975.0   \n",
       "2198                 218           886        974        812         975.0   \n",
       "2199                 218           861        991        812         981.0   \n",
       "\n",
       "      patents   score  year  \n",
       "0           5  100.00  2012  \n",
       "1           1   91.67  2012  \n",
       "2          15   89.50  2012  \n",
       "3          50   86.17  2012  \n",
       "4          18   85.21  2012  \n",
       "...       ...     ...   ...  \n",
       "2195      816   44.03  2015  \n",
       "2196      871   44.03  2015  \n",
       "2197      824   44.03  2015  \n",
       "2198      651   44.02  2015  \n",
       "2199      547   44.02  2015  \n",
       "\n",
       "[2200 rows x 14 columns]>"
      ]
     },
     "execution_count": 71,
     "metadata": {},
     "output_type": "execute_result"
    }
   ],
   "source": [
    "df_cwur.describe"
   ]
  },
  {
   "cell_type": "code",
   "execution_count": 72,
   "id": "e7619417-0697-4554-ac1e-19419ebedb8f",
   "metadata": {},
   "outputs": [
    {
     "data": {
      "text/plain": [
       "world_rank                int64\n",
       "institution              object\n",
       "country                  object\n",
       "national_rank             int64\n",
       "quality_of_education      int64\n",
       "alumni_employment         int64\n",
       "quality_of_faculty        int64\n",
       "publications              int64\n",
       "influence                 int64\n",
       "citations                 int64\n",
       "broad_impact            float64\n",
       "patents                   int64\n",
       "score                   float64\n",
       "year                      int64\n",
       "dtype: object"
      ]
     },
     "execution_count": 72,
     "metadata": {},
     "output_type": "execute_result"
    }
   ],
   "source": [
    "df_cwur.dtypes"
   ]
  },
  {
   "cell_type": "code",
   "execution_count": 77,
   "id": "222b49bc-7968-4a9b-90f3-1629d3eaa902",
   "metadata": {},
   "outputs": [
    {
     "name": "stdout",
     "output_type": "stream",
     "text": [
      "        world_rank  national_rank  quality_of_education  alumni_employment  \\\n",
      "count  2200.000000    2200.000000           2200.000000        2200.000000   \n",
      "mean    459.590909      40.278182            275.100455         357.116818   \n",
      "std     304.320363      51.740870            121.935100         186.779252   \n",
      "min       1.000000       1.000000              1.000000           1.000000   \n",
      "25%     175.750000       6.000000            175.750000         175.750000   \n",
      "50%     450.500000      21.000000            355.000000         450.500000   \n",
      "75%     725.250000      49.000000            367.000000         478.000000   \n",
      "max    1000.000000     229.000000            367.000000         567.000000   \n",
      "\n",
      "       quality_of_faculty  publications    influence    citations  \\\n",
      "count         2200.000000   2200.000000  2200.000000  2200.000000   \n",
      "mean           178.888182    459.908636   459.797727   413.417273   \n",
      "std             64.050885    303.760352   303.331822   264.366549   \n",
      "min              1.000000      1.000000     1.000000     1.000000   \n",
      "25%            175.750000    175.750000   175.750000   161.000000   \n",
      "50%            210.000000    450.500000   450.500000   406.000000   \n",
      "75%            218.000000    725.000000   725.250000   645.000000   \n",
      "max            218.000000   1000.000000   991.000000   812.000000   \n",
      "\n",
      "       broad_impact      patents        score         year  \n",
      "count   2000.000000  2200.000000  2200.000000  2200.000000  \n",
      "mean     496.699500   433.346364    47.798395  2014.318182  \n",
      "std      286.919755   273.996525     7.760806     0.762130  \n",
      "min        1.000000     1.000000    43.360000  2012.000000  \n",
      "25%      250.500000   170.750000    44.460000  2014.000000  \n",
      "50%      496.000000   426.000000    45.100000  2014.000000  \n",
      "75%      741.000000   714.250000    47.545000  2015.000000  \n",
      "max     1000.000000   871.000000   100.000000  2015.000000  \n"
     ]
    }
   ],
   "source": [
    "# Apply describe to only numeric columns\n",
    "summary = df_cwur.describe(include=[np.number])\n",
    "print(summary)\n"
   ]
  },
  {
   "cell_type": "markdown",
   "id": "9085b2a4-7716-4ef5-ac48-7dbaa9cd3d88",
   "metadata": {},
   "source": [
    "Not exporting the df_cwur as it stazs as original for now"
   ]
  },
  {
   "cell_type": "markdown",
   "id": "0ddae44f-2bb9-447b-a92b-7c20a12b06f1",
   "metadata": {},
   "source": [
    "# ARWU dataset"
   ]
  },
  {
   "cell_type": "code",
   "execution_count": 22,
   "id": "028e8459-f811-44fe-8008-64c3743fa68a",
   "metadata": {},
   "outputs": [],
   "source": [
    "df_arwu= pd.read_csv(os.path.join(path, '02 Data', 'Original Data', 'shanghaiData.csv'), index_col = False)"
   ]
  },
  {
   "cell_type": "code",
   "execution_count": 23,
   "id": "af44d45e-5ddb-479c-b831-1a240109e32e",
   "metadata": {},
   "outputs": [
    {
     "data": {
      "text/html": [
       "<div>\n",
       "<style scoped>\n",
       "    .dataframe tbody tr th:only-of-type {\n",
       "        vertical-align: middle;\n",
       "    }\n",
       "\n",
       "    .dataframe tbody tr th {\n",
       "        vertical-align: top;\n",
       "    }\n",
       "\n",
       "    .dataframe thead th {\n",
       "        text-align: right;\n",
       "    }\n",
       "</style>\n",
       "<table border=\"1\" class=\"dataframe\">\n",
       "  <thead>\n",
       "    <tr style=\"text-align: right;\">\n",
       "      <th></th>\n",
       "      <th>world_rank</th>\n",
       "      <th>university_name</th>\n",
       "      <th>national_rank</th>\n",
       "      <th>total_score</th>\n",
       "      <th>alumni</th>\n",
       "      <th>award</th>\n",
       "      <th>hici</th>\n",
       "      <th>ns</th>\n",
       "      <th>pub</th>\n",
       "      <th>pcp</th>\n",
       "      <th>year</th>\n",
       "    </tr>\n",
       "  </thead>\n",
       "  <tbody>\n",
       "    <tr>\n",
       "      <th>0</th>\n",
       "      <td>1</td>\n",
       "      <td>Harvard University</td>\n",
       "      <td>1</td>\n",
       "      <td>100.0</td>\n",
       "      <td>100.0</td>\n",
       "      <td>100.0</td>\n",
       "      <td>100.0</td>\n",
       "      <td>100.0</td>\n",
       "      <td>100.0</td>\n",
       "      <td>72.4</td>\n",
       "      <td>2005</td>\n",
       "    </tr>\n",
       "    <tr>\n",
       "      <th>1</th>\n",
       "      <td>2</td>\n",
       "      <td>University of Cambridge</td>\n",
       "      <td>1</td>\n",
       "      <td>73.6</td>\n",
       "      <td>99.8</td>\n",
       "      <td>93.4</td>\n",
       "      <td>53.3</td>\n",
       "      <td>56.6</td>\n",
       "      <td>70.9</td>\n",
       "      <td>66.9</td>\n",
       "      <td>2005</td>\n",
       "    </tr>\n",
       "    <tr>\n",
       "      <th>2</th>\n",
       "      <td>3</td>\n",
       "      <td>Stanford University</td>\n",
       "      <td>2</td>\n",
       "      <td>73.4</td>\n",
       "      <td>41.1</td>\n",
       "      <td>72.2</td>\n",
       "      <td>88.5</td>\n",
       "      <td>70.9</td>\n",
       "      <td>72.3</td>\n",
       "      <td>65.0</td>\n",
       "      <td>2005</td>\n",
       "    </tr>\n",
       "    <tr>\n",
       "      <th>3</th>\n",
       "      <td>4</td>\n",
       "      <td>University of California, Berkeley</td>\n",
       "      <td>3</td>\n",
       "      <td>72.8</td>\n",
       "      <td>71.8</td>\n",
       "      <td>76.0</td>\n",
       "      <td>69.4</td>\n",
       "      <td>73.9</td>\n",
       "      <td>72.2</td>\n",
       "      <td>52.7</td>\n",
       "      <td>2005</td>\n",
       "    </tr>\n",
       "    <tr>\n",
       "      <th>4</th>\n",
       "      <td>5</td>\n",
       "      <td>Massachusetts Institute of Technology (MIT)</td>\n",
       "      <td>4</td>\n",
       "      <td>70.1</td>\n",
       "      <td>74.0</td>\n",
       "      <td>80.6</td>\n",
       "      <td>66.7</td>\n",
       "      <td>65.8</td>\n",
       "      <td>64.3</td>\n",
       "      <td>53.0</td>\n",
       "      <td>2005</td>\n",
       "    </tr>\n",
       "  </tbody>\n",
       "</table>\n",
       "</div>"
      ],
      "text/plain": [
       "  world_rank                              university_name national_rank  \\\n",
       "0          1                           Harvard University             1   \n",
       "1          2                      University of Cambridge             1   \n",
       "2          3                          Stanford University             2   \n",
       "3          4           University of California, Berkeley             3   \n",
       "4          5  Massachusetts Institute of Technology (MIT)             4   \n",
       "\n",
       "   total_score  alumni  award   hici     ns    pub   pcp  year  \n",
       "0        100.0   100.0  100.0  100.0  100.0  100.0  72.4  2005  \n",
       "1         73.6    99.8   93.4   53.3   56.6   70.9  66.9  2005  \n",
       "2         73.4    41.1   72.2   88.5   70.9   72.3  65.0  2005  \n",
       "3         72.8    71.8   76.0   69.4   73.9   72.2  52.7  2005  \n",
       "4         70.1    74.0   80.6   66.7   65.8   64.3  53.0  2005  "
      ]
     },
     "execution_count": 23,
     "metadata": {},
     "output_type": "execute_result"
    }
   ],
   "source": [
    "df_arwu.head()"
   ]
  },
  {
   "cell_type": "code",
   "execution_count": 24,
   "id": "72eaee1a-ea1b-48d3-b237-cf3e5acaf6a4",
   "metadata": {},
   "outputs": [
    {
     "data": {
      "text/plain": [
       "(4897, 11)"
      ]
     },
     "execution_count": 24,
     "metadata": {},
     "output_type": "execute_result"
    }
   ],
   "source": [
    "df_arwu.shape"
   ]
  },
  {
   "cell_type": "code",
   "execution_count": 34,
   "id": "add8582d-b6ef-4b82-bac1-be9834a4832b",
   "metadata": {},
   "outputs": [],
   "source": [
    "# Renaming columns\n",
    "df_arwu.rename(columns={\n",
    "    'hici': 'Highly Cited Researchers',\n",
    "    'ns': 'Number of Staff',\n",
    "    'pub': 'Publications',\n",
    "    'pcp': 'Publications Per Capita'\n",
    "}, inplace=True)"
   ]
  },
  {
   "cell_type": "code",
   "execution_count": 35,
   "id": "6409bc97-b596-4e39-ab93-80839d2ad47c",
   "metadata": {},
   "outputs": [
    {
     "data": {
      "text/html": [
       "<div>\n",
       "<style scoped>\n",
       "    .dataframe tbody tr th:only-of-type {\n",
       "        vertical-align: middle;\n",
       "    }\n",
       "\n",
       "    .dataframe tbody tr th {\n",
       "        vertical-align: top;\n",
       "    }\n",
       "\n",
       "    .dataframe thead th {\n",
       "        text-align: right;\n",
       "    }\n",
       "</style>\n",
       "<table border=\"1\" class=\"dataframe\">\n",
       "  <thead>\n",
       "    <tr style=\"text-align: right;\">\n",
       "      <th></th>\n",
       "      <th>world_rank</th>\n",
       "      <th>university_name</th>\n",
       "      <th>national_rank</th>\n",
       "      <th>total_score</th>\n",
       "      <th>alumni</th>\n",
       "      <th>award</th>\n",
       "      <th>Highly Cited Researchers</th>\n",
       "      <th>Number of Staff</th>\n",
       "      <th>Publications</th>\n",
       "      <th>Publications Per Capita</th>\n",
       "      <th>year</th>\n",
       "    </tr>\n",
       "  </thead>\n",
       "  <tbody>\n",
       "    <tr>\n",
       "      <th>0</th>\n",
       "      <td>1</td>\n",
       "      <td>Harvard University</td>\n",
       "      <td>1</td>\n",
       "      <td>100.0</td>\n",
       "      <td>100.0</td>\n",
       "      <td>100.0</td>\n",
       "      <td>100.0</td>\n",
       "      <td>100.0</td>\n",
       "      <td>100.0</td>\n",
       "      <td>72.4</td>\n",
       "      <td>2005</td>\n",
       "    </tr>\n",
       "    <tr>\n",
       "      <th>1</th>\n",
       "      <td>2</td>\n",
       "      <td>University of Cambridge</td>\n",
       "      <td>1</td>\n",
       "      <td>73.6</td>\n",
       "      <td>99.8</td>\n",
       "      <td>93.4</td>\n",
       "      <td>53.3</td>\n",
       "      <td>56.6</td>\n",
       "      <td>70.9</td>\n",
       "      <td>66.9</td>\n",
       "      <td>2005</td>\n",
       "    </tr>\n",
       "    <tr>\n",
       "      <th>2</th>\n",
       "      <td>3</td>\n",
       "      <td>Stanford University</td>\n",
       "      <td>2</td>\n",
       "      <td>73.4</td>\n",
       "      <td>41.1</td>\n",
       "      <td>72.2</td>\n",
       "      <td>88.5</td>\n",
       "      <td>70.9</td>\n",
       "      <td>72.3</td>\n",
       "      <td>65.0</td>\n",
       "      <td>2005</td>\n",
       "    </tr>\n",
       "    <tr>\n",
       "      <th>3</th>\n",
       "      <td>4</td>\n",
       "      <td>University of California, Berkeley</td>\n",
       "      <td>3</td>\n",
       "      <td>72.8</td>\n",
       "      <td>71.8</td>\n",
       "      <td>76.0</td>\n",
       "      <td>69.4</td>\n",
       "      <td>73.9</td>\n",
       "      <td>72.2</td>\n",
       "      <td>52.7</td>\n",
       "      <td>2005</td>\n",
       "    </tr>\n",
       "    <tr>\n",
       "      <th>4</th>\n",
       "      <td>5</td>\n",
       "      <td>Massachusetts Institute of Technology (MIT)</td>\n",
       "      <td>4</td>\n",
       "      <td>70.1</td>\n",
       "      <td>74.0</td>\n",
       "      <td>80.6</td>\n",
       "      <td>66.7</td>\n",
       "      <td>65.8</td>\n",
       "      <td>64.3</td>\n",
       "      <td>53.0</td>\n",
       "      <td>2005</td>\n",
       "    </tr>\n",
       "  </tbody>\n",
       "</table>\n",
       "</div>"
      ],
      "text/plain": [
       "  world_rank                              university_name national_rank  \\\n",
       "0          1                           Harvard University             1   \n",
       "1          2                      University of Cambridge             1   \n",
       "2          3                          Stanford University             2   \n",
       "3          4           University of California, Berkeley             3   \n",
       "4          5  Massachusetts Institute of Technology (MIT)             4   \n",
       "\n",
       "   total_score  alumni  award  Highly Cited Researchers  Number of Staff  \\\n",
       "0        100.0   100.0  100.0                     100.0            100.0   \n",
       "1         73.6    99.8   93.4                      53.3             56.6   \n",
       "2         73.4    41.1   72.2                      88.5             70.9   \n",
       "3         72.8    71.8   76.0                      69.4             73.9   \n",
       "4         70.1    74.0   80.6                      66.7             65.8   \n",
       "\n",
       "   Publications  Publications Per Capita  year  \n",
       "0         100.0                     72.4  2005  \n",
       "1          70.9                     66.9  2005  \n",
       "2          72.3                     65.0  2005  \n",
       "3          72.2                     52.7  2005  \n",
       "4          64.3                     53.0  2005  "
      ]
     },
     "execution_count": 35,
     "metadata": {},
     "output_type": "execute_result"
    }
   ],
   "source": [
    "df_arwu.head()"
   ]
  },
  {
   "cell_type": "code",
   "execution_count": 36,
   "id": "42de206a-0647-437e-a796-cac6b87ef663",
   "metadata": {},
   "outputs": [
    {
     "data": {
      "text/plain": [
       "world_rank                     0\n",
       "university_name                1\n",
       "national_rank                  1\n",
       "total_score                 3796\n",
       "alumni                         1\n",
       "award                          2\n",
       "Highly Cited Researchers       2\n",
       "Number of Staff               22\n",
       "Publications                   2\n",
       "Publications Per Capita        2\n",
       "year                           0\n",
       "dtype: int64"
      ]
     },
     "execution_count": 36,
     "metadata": {},
     "output_type": "execute_result"
    }
   ],
   "source": [
    "#Finding Missing Values\n",
    "df_arwu.isnull().sum()"
   ]
  },
  {
   "cell_type": "code",
   "execution_count": 37,
   "id": "e636ac02-4073-47bd-8755-76dcb425858b",
   "metadata": {},
   "outputs": [],
   "source": [
    "#finding duplicates\n",
    "df_dups = df_arwu[df_arwu.duplicated()]"
   ]
  },
  {
   "cell_type": "code",
   "execution_count": 38,
   "id": "86f711ec-7687-4c12-9128-077a55c2dad6",
   "metadata": {},
   "outputs": [
    {
     "data": {
      "text/html": [
       "<div>\n",
       "<style scoped>\n",
       "    .dataframe tbody tr th:only-of-type {\n",
       "        vertical-align: middle;\n",
       "    }\n",
       "\n",
       "    .dataframe tbody tr th {\n",
       "        vertical-align: top;\n",
       "    }\n",
       "\n",
       "    .dataframe thead th {\n",
       "        text-align: right;\n",
       "    }\n",
       "</style>\n",
       "<table border=\"1\" class=\"dataframe\">\n",
       "  <thead>\n",
       "    <tr style=\"text-align: right;\">\n",
       "      <th></th>\n",
       "      <th>world_rank</th>\n",
       "      <th>university_name</th>\n",
       "      <th>national_rank</th>\n",
       "      <th>total_score</th>\n",
       "      <th>alumni</th>\n",
       "      <th>award</th>\n",
       "      <th>Highly Cited Researchers</th>\n",
       "      <th>Number of Staff</th>\n",
       "      <th>Publications</th>\n",
       "      <th>Publications Per Capita</th>\n",
       "      <th>year</th>\n",
       "    </tr>\n",
       "  </thead>\n",
       "  <tbody>\n",
       "  </tbody>\n",
       "</table>\n",
       "</div>"
      ],
      "text/plain": [
       "Empty DataFrame\n",
       "Columns: [world_rank, university_name, national_rank, total_score, alumni, award, Highly Cited Researchers, Number of Staff, Publications, Publications Per Capita, year]\n",
       "Index: []"
      ]
     },
     "execution_count": 38,
     "metadata": {},
     "output_type": "execute_result"
    }
   ],
   "source": [
    "df_dups"
   ]
  },
  {
   "cell_type": "markdown",
   "id": "1e3e43ef-294a-46e4-98b7-690efd99f96d",
   "metadata": {},
   "source": [
    "Analyzing the data in excel I've noticed that total score is missing only for the Universities which are out of top 100 by world rank. for the purpose of my analysis top 100 universities is enough, so I would remove the rest of the data w/o total score."
   ]
  },
  {
   "cell_type": "code",
   "execution_count": 45,
   "id": "bf1ea136-7736-483a-af2c-9b712af65941",
   "metadata": {},
   "outputs": [],
   "source": [
    "# Filter out rows where total score is missing\n",
    "df_arwu_filtered = df_arwu[df_arwu['total_score'].notna()]"
   ]
  },
  {
   "cell_type": "code",
   "execution_count": 46,
   "id": "c9956916-8d97-4bde-84a8-eea0d3b69bfe",
   "metadata": {},
   "outputs": [
    {
     "data": {
      "text/plain": [
       "(1101, 11)"
      ]
     },
     "execution_count": 46,
     "metadata": {},
     "output_type": "execute_result"
    }
   ],
   "source": [
    "df_arwu_filtered.shape"
   ]
  },
  {
   "cell_type": "code",
   "execution_count": 47,
   "id": "8b320d4a-4f22-4be7-a59f-17497fb2d986",
   "metadata": {},
   "outputs": [
    {
     "data": {
      "text/plain": [
       "world_rank                  0\n",
       "university_name             0\n",
       "national_rank               0\n",
       "total_score                 0\n",
       "alumni                      0\n",
       "award                       0\n",
       "Highly Cited Researchers    0\n",
       "Number of Staff             0\n",
       "Publications                0\n",
       "Publications Per Capita     0\n",
       "year                        0\n",
       "dtype: int64"
      ]
     },
     "execution_count": 47,
     "metadata": {},
     "output_type": "execute_result"
    }
   ],
   "source": [
    "#Finding Missing Values\n",
    "df_arwu_filtered.isnull().sum()"
   ]
  },
  {
   "cell_type": "code",
   "execution_count": 48,
   "id": "f73a139d-3251-40be-b5ce-43bd25309e9f",
   "metadata": {},
   "outputs": [],
   "source": [
    "#check for mixed types\n",
    "for col in df_arwu_filtered.columns.tolist():\n",
    "  weird = (df_arwu_filtered[[col]].map(type) != df_arwu_filtered[[col]].iloc[0].apply(type)).any(axis = 1)\n",
    "  if len (df_arwu_filtered[weird]) > 0:\n",
    "    print (col)"
   ]
  },
  {
   "cell_type": "code",
   "execution_count": 73,
   "id": "0e31f228-d81a-46f8-b6cb-ecd00456be65",
   "metadata": {},
   "outputs": [
    {
     "data": {
      "text/plain": [
       "<bound method NDFrame.describe of      world_rank                              university_name national_rank  \\\n",
       "0             1                           Harvard University             1   \n",
       "1             2                      University of Cambridge             1   \n",
       "2             3                          Stanford University             2   \n",
       "3             4           University of California, Berkeley             3   \n",
       "4             5  Massachusetts Institute of Technology (MIT)             4   \n",
       "...         ...                                          ...           ...   \n",
       "4492         96                          McMaster University             4   \n",
       "4493         97                           University of Bonn             4   \n",
       "4494         98                      VU University Amsterdam             4   \n",
       "4495         99                    Michigan State University            50   \n",
       "4496        100                         Texas A&M University            51   \n",
       "\n",
       "      total_score  alumni  award  Highly Cited Researchers  Number of Staff  \\\n",
       "0           100.0   100.0  100.0                     100.0            100.0   \n",
       "1            73.6    99.8   93.4                      53.3             56.6   \n",
       "2            73.4    41.1   72.2                      88.5             70.9   \n",
       "3            72.8    71.8   76.0                      69.4             73.9   \n",
       "4            70.1    74.0   80.6                      66.7             65.8   \n",
       "...           ...     ...    ...                       ...              ...   \n",
       "4492         24.4    12.6   18.8                      23.2             15.1   \n",
       "4493         24.3    15.4   19.8                      17.4             21.1   \n",
       "4494         24.2     0.0    0.0                      27.8             18.0   \n",
       "4495         24.0     8.9    0.0                      30.7             21.8   \n",
       "4496         23.9     0.0    0.0                      34.3             22.7   \n",
       "\n",
       "      Publications  Publications Per Capita  year  \n",
       "0            100.0                     72.4  2005  \n",
       "1             70.9                     66.9  2005  \n",
       "2             72.3                     65.0  2005  \n",
       "3             72.2                     52.7  2005  \n",
       "4             64.3                     53.0  2005  \n",
       "...            ...                      ...   ...  \n",
       "4492          44.5                     22.5  2015  \n",
       "4493          39.8                     25.9  2015  \n",
       "4494          55.5                     33.3  2015  \n",
       "4495          50.6                     18.9  2015  \n",
       "4496          49.5                     20.9  2015  \n",
       "\n",
       "[1101 rows x 11 columns]>"
      ]
     },
     "execution_count": 73,
     "metadata": {},
     "output_type": "execute_result"
    }
   ],
   "source": [
    "df_arwu_filtered.describe"
   ]
  },
  {
   "cell_type": "code",
   "execution_count": 74,
   "id": "52d62ea4-3892-4ba8-a324-214e7f3960d7",
   "metadata": {},
   "outputs": [
    {
     "data": {
      "text/plain": [
       "world_rank                   object\n",
       "university_name              object\n",
       "national_rank                object\n",
       "total_score                 float64\n",
       "alumni                      float64\n",
       "award                       float64\n",
       "Highly Cited Researchers    float64\n",
       "Number of Staff             float64\n",
       "Publications                float64\n",
       "Publications Per Capita     float64\n",
       "year                          int64\n",
       "dtype: object"
      ]
     },
     "execution_count": 74,
     "metadata": {},
     "output_type": "execute_result"
    }
   ],
   "source": [
    "df_arwu_filtered.dtypes"
   ]
  },
  {
   "cell_type": "code",
   "execution_count": 81,
   "id": "2c2c59c6-5ca7-4155-b9ac-7a81b28ed8c1",
   "metadata": {},
   "outputs": [
    {
     "name": "stdout",
     "output_type": "stream",
     "text": [
      "       total_score       alumni        award  Highly Cited Researchers  \\\n",
      "count  1101.000000  1101.000000  1101.000000               1101.000000   \n",
      "mean     36.383470    25.576658    26.719255                 35.376748   \n",
      "std      13.557186    18.650148    22.021721                 16.105656   \n",
      "min      23.500000     0.000000     0.000000                  0.000000   \n",
      "25%      27.400000    14.400000    14.100000                 24.100000   \n",
      "50%      31.300000    21.300000    22.200000                 32.300000   \n",
      "75%      41.800000    32.900000    34.000000                 43.700000   \n",
      "max     100.000000   100.000000   100.000000                100.000000   \n",
      "\n",
      "       Number of Staff  Publications  Publications Per Capita         year  \n",
      "count      1101.000000   1101.000000              1101.000000  1101.000000  \n",
      "mean         32.587103     53.767666                31.522343  2009.989101  \n",
      "std          15.019464     12.279979                12.621984     3.163409  \n",
      "min           5.600000     19.000000                14.800000  2005.000000  \n",
      "25%          21.900000     45.800000                24.500000  2007.000000  \n",
      "50%          28.300000     52.400000                28.400000  2010.000000  \n",
      "75%          40.500000     62.000000                34.200000  2013.000000  \n",
      "max         100.000000    100.000000               100.000000  2015.000000  \n"
     ]
    }
   ],
   "source": [
    "# Apply describe to only numeric columns\n",
    "summary1 = df_arwu_filtered.describe(include=[np.number])\n",
    "print(summary1)"
   ]
  },
  {
   "cell_type": "code",
   "execution_count": 85,
   "id": "a7fb398a-b51b-4781-8038-b866d313da7b",
   "metadata": {},
   "outputs": [],
   "source": [
    "#Export df_arwu_filtered\n",
    "df_arwu_filtered.to_csv(os.path.join(path, '02 Data','Prepared Data', 'df_arwu_filtered.csv')) "
   ]
  },
  {
   "cell_type": "markdown",
   "id": "01a866d2-653f-4b17-a6ef-d957097b19e5",
   "metadata": {},
   "source": [
    "# THE data set"
   ]
  },
  {
   "cell_type": "code",
   "execution_count": 49,
   "id": "140d430b-f324-4afa-8c81-6b878de410a6",
   "metadata": {},
   "outputs": [],
   "source": [
    "df_the = pd.read_csv(os.path.join(path, '02 Data', 'Original Data', 'timesData.csv'), index_col = False)"
   ]
  },
  {
   "cell_type": "code",
   "execution_count": 50,
   "id": "28a8322d-781b-43f2-abef-631fa285f73f",
   "metadata": {},
   "outputs": [
    {
     "data": {
      "text/html": [
       "<div>\n",
       "<style scoped>\n",
       "    .dataframe tbody tr th:only-of-type {\n",
       "        vertical-align: middle;\n",
       "    }\n",
       "\n",
       "    .dataframe tbody tr th {\n",
       "        vertical-align: top;\n",
       "    }\n",
       "\n",
       "    .dataframe thead th {\n",
       "        text-align: right;\n",
       "    }\n",
       "</style>\n",
       "<table border=\"1\" class=\"dataframe\">\n",
       "  <thead>\n",
       "    <tr style=\"text-align: right;\">\n",
       "      <th></th>\n",
       "      <th>world_rank</th>\n",
       "      <th>university_name</th>\n",
       "      <th>country</th>\n",
       "      <th>teaching</th>\n",
       "      <th>international</th>\n",
       "      <th>research</th>\n",
       "      <th>citations</th>\n",
       "      <th>income</th>\n",
       "      <th>total_score</th>\n",
       "      <th>num_students</th>\n",
       "      <th>student_staff_ratio</th>\n",
       "      <th>international_students</th>\n",
       "      <th>female_male_ratio</th>\n",
       "      <th>year</th>\n",
       "    </tr>\n",
       "  </thead>\n",
       "  <tbody>\n",
       "    <tr>\n",
       "      <th>0</th>\n",
       "      <td>1</td>\n",
       "      <td>Harvard University</td>\n",
       "      <td>United States of America</td>\n",
       "      <td>99.7</td>\n",
       "      <td>72.4</td>\n",
       "      <td>98.7</td>\n",
       "      <td>98.8</td>\n",
       "      <td>34.5</td>\n",
       "      <td>96.1</td>\n",
       "      <td>20,152</td>\n",
       "      <td>8.9</td>\n",
       "      <td>25%</td>\n",
       "      <td>NaN</td>\n",
       "      <td>2011</td>\n",
       "    </tr>\n",
       "    <tr>\n",
       "      <th>1</th>\n",
       "      <td>2</td>\n",
       "      <td>California Institute of Technology</td>\n",
       "      <td>United States of America</td>\n",
       "      <td>97.7</td>\n",
       "      <td>54.6</td>\n",
       "      <td>98.0</td>\n",
       "      <td>99.9</td>\n",
       "      <td>83.7</td>\n",
       "      <td>96.0</td>\n",
       "      <td>2,243</td>\n",
       "      <td>6.9</td>\n",
       "      <td>27%</td>\n",
       "      <td>33 : 67</td>\n",
       "      <td>2011</td>\n",
       "    </tr>\n",
       "    <tr>\n",
       "      <th>2</th>\n",
       "      <td>3</td>\n",
       "      <td>Massachusetts Institute of Technology</td>\n",
       "      <td>United States of America</td>\n",
       "      <td>97.8</td>\n",
       "      <td>82.3</td>\n",
       "      <td>91.4</td>\n",
       "      <td>99.9</td>\n",
       "      <td>87.5</td>\n",
       "      <td>95.6</td>\n",
       "      <td>11,074</td>\n",
       "      <td>9.0</td>\n",
       "      <td>33%</td>\n",
       "      <td>37 : 63</td>\n",
       "      <td>2011</td>\n",
       "    </tr>\n",
       "    <tr>\n",
       "      <th>3</th>\n",
       "      <td>4</td>\n",
       "      <td>Stanford University</td>\n",
       "      <td>United States of America</td>\n",
       "      <td>98.3</td>\n",
       "      <td>29.5</td>\n",
       "      <td>98.1</td>\n",
       "      <td>99.2</td>\n",
       "      <td>64.3</td>\n",
       "      <td>94.3</td>\n",
       "      <td>15,596</td>\n",
       "      <td>7.8</td>\n",
       "      <td>22%</td>\n",
       "      <td>42 : 58</td>\n",
       "      <td>2011</td>\n",
       "    </tr>\n",
       "    <tr>\n",
       "      <th>4</th>\n",
       "      <td>5</td>\n",
       "      <td>Princeton University</td>\n",
       "      <td>United States of America</td>\n",
       "      <td>90.9</td>\n",
       "      <td>70.3</td>\n",
       "      <td>95.4</td>\n",
       "      <td>99.9</td>\n",
       "      <td>-</td>\n",
       "      <td>94.2</td>\n",
       "      <td>7,929</td>\n",
       "      <td>8.4</td>\n",
       "      <td>27%</td>\n",
       "      <td>45 : 55</td>\n",
       "      <td>2011</td>\n",
       "    </tr>\n",
       "  </tbody>\n",
       "</table>\n",
       "</div>"
      ],
      "text/plain": [
       "  world_rank                        university_name                   country  \\\n",
       "0          1                     Harvard University  United States of America   \n",
       "1          2     California Institute of Technology  United States of America   \n",
       "2          3  Massachusetts Institute of Technology  United States of America   \n",
       "3          4                    Stanford University  United States of America   \n",
       "4          5                   Princeton University  United States of America   \n",
       "\n",
       "   teaching international  research  citations income total_score  \\\n",
       "0      99.7          72.4      98.7       98.8   34.5        96.1   \n",
       "1      97.7          54.6      98.0       99.9   83.7        96.0   \n",
       "2      97.8          82.3      91.4       99.9   87.5        95.6   \n",
       "3      98.3          29.5      98.1       99.2   64.3        94.3   \n",
       "4      90.9          70.3      95.4       99.9      -        94.2   \n",
       "\n",
       "  num_students  student_staff_ratio international_students female_male_ratio  \\\n",
       "0       20,152                  8.9                    25%               NaN   \n",
       "1        2,243                  6.9                    27%           33 : 67   \n",
       "2       11,074                  9.0                    33%           37 : 63   \n",
       "3       15,596                  7.8                    22%           42 : 58   \n",
       "4        7,929                  8.4                    27%           45 : 55   \n",
       "\n",
       "   year  \n",
       "0  2011  \n",
       "1  2011  \n",
       "2  2011  \n",
       "3  2011  \n",
       "4  2011  "
      ]
     },
     "execution_count": 50,
     "metadata": {},
     "output_type": "execute_result"
    }
   ],
   "source": [
    "df_the.head()"
   ]
  },
  {
   "cell_type": "code",
   "execution_count": 51,
   "id": "94794df4-3bae-4089-9c36-f49cdb3b43d7",
   "metadata": {},
   "outputs": [
    {
     "data": {
      "text/plain": [
       "(2603, 14)"
      ]
     },
     "execution_count": 51,
     "metadata": {},
     "output_type": "execute_result"
    }
   ],
   "source": [
    "df_the.shape"
   ]
  },
  {
   "cell_type": "code",
   "execution_count": 52,
   "id": "46aca3d5-bee5-44cb-9f89-dadcf3fd7543",
   "metadata": {},
   "outputs": [
    {
     "data": {
      "text/plain": [
       "world_rank                  0\n",
       "university_name             0\n",
       "country                     0\n",
       "teaching                    0\n",
       "international               0\n",
       "research                    0\n",
       "citations                   0\n",
       "income                      0\n",
       "total_score                 0\n",
       "num_students               59\n",
       "student_staff_ratio        59\n",
       "international_students     67\n",
       "female_male_ratio         233\n",
       "year                        0\n",
       "dtype: int64"
      ]
     },
     "execution_count": 52,
     "metadata": {},
     "output_type": "execute_result"
    }
   ],
   "source": [
    "#Finding Missing Values\n",
    "df_the.isnull().sum()"
   ]
  },
  {
   "cell_type": "code",
   "execution_count": 55,
   "id": "183c7d49-4330-4e11-8439-1f2f534cff68",
   "metadata": {},
   "outputs": [
    {
     "name": "stdout",
     "output_type": "stream",
     "text": [
      "num_students\n",
      "international_students\n",
      "female_male_ratio\n"
     ]
    }
   ],
   "source": [
    "#check for mixed types\n",
    "for col in df_the.columns.tolist():\n",
    "  weird = (df_the[[col]].map(type) != df_the[[col]].iloc[0].apply(type)).any(axis = 1)\n",
    "  if len (df_the[weird]) > 0:\n",
    "    print (col)"
   ]
  },
  {
   "cell_type": "code",
   "execution_count": 57,
   "id": "c59c0377-f6dc-4aab-bd45-5ba403e149ae",
   "metadata": {},
   "outputs": [
    {
     "name": "stdout",
     "output_type": "stream",
     "text": [
      "num_students              object\n",
      "international_students    object\n",
      "female_male_ratio         object\n",
      "dtype: object\n"
     ]
    }
   ],
   "source": [
    "# Check data types for specific columns\n",
    "print(df_the[['num_students', 'international_students', 'female_male_ratio']].dtypes)\n"
   ]
  },
  {
   "cell_type": "code",
   "execution_count": 102,
   "id": "bfec22fe-c725-4017-81da-848fadf99722",
   "metadata": {},
   "outputs": [],
   "source": [
    "# Replace non-numeric values (e.g., '-' or ' -') with NaN for the relevant columns\n",
    "df_the['num_students'] = df_the['num_students'].replace({' -': pd.NA, '-': pd.NA})\n",
    "df_the['international_students'] = df_the['international_students'].replace({' -': pd.NA, '-': pd.NA})\n",
    "df_the['student_staff_ratio'] = df_the['student_staff_ratio'].replace({' -': pd.NA, '-': pd.NA})\n",
    "\n",
    "# Convert the columns to numeric type (float), coerce any invalid values to NaN\n",
    "df_the['num_students'] = pd.to_numeric(df_the['num_students'], errors='coerce')\n",
    "df_the['international_students'] = pd.to_numeric(df_the['international_students'], errors='coerce')\n",
    "df_the['student_staff_ratio'] = pd.to_numeric(df_the['student_staff_ratio'], errors='coerce')\n"
   ]
  },
  {
   "cell_type": "code",
   "execution_count": 103,
   "id": "529d2061-6b0b-4fd9-b85c-60618fa31981",
   "metadata": {},
   "outputs": [
    {
     "name": "stderr",
     "output_type": "stream",
     "text": [
      "/var/folders/rs/zynz_jf95m96kh0kp832ghnr0000gn/T/ipykernel_4562/3230262418.py:5: FutureWarning: A value is trying to be set on a copy of a DataFrame or Series through chained assignment using an inplace method.\n",
      "The behavior will change in pandas 3.0. This inplace method will never work because the intermediate object on which we are setting values always behaves as a copy.\n",
      "\n",
      "For example, when doing 'df[col].method(value, inplace=True)', try using 'df.method({col: value}, inplace=True)' or df[col] = df[col].method(value) instead, to perform the operation inplace on the original object.\n",
      "\n",
      "\n",
      "  df_the_filled1['num_students'].fillna(df_the_filled1['num_students'].median(), inplace=True)\n",
      "/var/folders/rs/zynz_jf95m96kh0kp832ghnr0000gn/T/ipykernel_4562/3230262418.py:6: FutureWarning: A value is trying to be set on a copy of a DataFrame or Series through chained assignment using an inplace method.\n",
      "The behavior will change in pandas 3.0. This inplace method will never work because the intermediate object on which we are setting values always behaves as a copy.\n",
      "\n",
      "For example, when doing 'df[col].method(value, inplace=True)', try using 'df.method({col: value}, inplace=True)' or df[col] = df[col].method(value) instead, to perform the operation inplace on the original object.\n",
      "\n",
      "\n",
      "  df_the_filled1['student_staff_ratio'].fillna(df_the_filled1['student_staff_ratio'].median(), inplace=True)\n",
      "/var/folders/rs/zynz_jf95m96kh0kp832ghnr0000gn/T/ipykernel_4562/3230262418.py:7: FutureWarning: A value is trying to be set on a copy of a DataFrame or Series through chained assignment using an inplace method.\n",
      "The behavior will change in pandas 3.0. This inplace method will never work because the intermediate object on which we are setting values always behaves as a copy.\n",
      "\n",
      "For example, when doing 'df[col].method(value, inplace=True)', try using 'df.method({col: value}, inplace=True)' or df[col] = df[col].method(value) instead, to perform the operation inplace on the original object.\n",
      "\n",
      "\n",
      "  df_the_filled1['international_students'].fillna(df_the_filled1['international_students'].median(), inplace=True)\n"
     ]
    }
   ],
   "source": [
    "# Create a new DataFrame to preserve the original one\n",
    "df_the_filled1 = df_the.copy()\n",
    "\n",
    "# Fill missing values with the median in the new df\n",
    "df_the_filled1['num_students'].fillna(df_the_filled1['num_students'].median(), inplace=True)\n",
    "df_the_filled1['student_staff_ratio'].fillna(df_the_filled1['student_staff_ratio'].median(), inplace=True)\n",
    "df_the_filled1['international_students'].fillna(df_the_filled1['international_students'].median(), inplace=True)\n",
    "\n"
   ]
  },
  {
   "cell_type": "code",
   "execution_count": 104,
   "id": "2640d0b7-f530-41e2-8d85-5716bbe8359e",
   "metadata": {},
   "outputs": [
    {
     "data": {
      "text/plain": [
       "world_rank                   0\n",
       "university_name              0\n",
       "country                      0\n",
       "teaching                     0\n",
       "international                0\n",
       "research                     0\n",
       "citations                    0\n",
       "income                       0\n",
       "total_score                  0\n",
       "num_students                 0\n",
       "student_staff_ratio          0\n",
       "international_students    2603\n",
       "female_male_ratio          233\n",
       "year                         0\n",
       "dtype: int64"
      ]
     },
     "execution_count": 104,
     "metadata": {},
     "output_type": "execute_result"
    }
   ],
   "source": [
    "df_the_filled1.isnull().sum()"
   ]
  },
  {
   "cell_type": "code",
   "execution_count": 63,
   "id": "3819fcce-196c-4930-ac72-72ca4ddb82b7",
   "metadata": {},
   "outputs": [
    {
     "data": {
      "text/plain": [
       "world_rank                   0\n",
       "university_name              0\n",
       "country                      0\n",
       "teaching                     0\n",
       "international                0\n",
       "research                     0\n",
       "citations                    0\n",
       "income                       0\n",
       "total_score                  0\n",
       "num_students              2600\n",
       "student_staff_ratio         59\n",
       "international_students    2603\n",
       "female_male_ratio          233\n",
       "year                         0\n",
       "dtype: int64"
      ]
     },
     "execution_count": 63,
     "metadata": {},
     "output_type": "execute_result"
    }
   ],
   "source": [
    "df_the.isnull().sum()"
   ]
  },
  {
   "cell_type": "code",
   "execution_count": 105,
   "id": "90607f12-e86c-499a-9113-87ff00969e05",
   "metadata": {},
   "outputs": [
    {
     "data": {
      "text/html": [
       "<div>\n",
       "<style scoped>\n",
       "    .dataframe tbody tr th:only-of-type {\n",
       "        vertical-align: middle;\n",
       "    }\n",
       "\n",
       "    .dataframe tbody tr th {\n",
       "        vertical-align: top;\n",
       "    }\n",
       "\n",
       "    .dataframe thead th {\n",
       "        text-align: right;\n",
       "    }\n",
       "</style>\n",
       "<table border=\"1\" class=\"dataframe\">\n",
       "  <thead>\n",
       "    <tr style=\"text-align: right;\">\n",
       "      <th></th>\n",
       "      <th>world_rank</th>\n",
       "      <th>university_name</th>\n",
       "      <th>country</th>\n",
       "      <th>teaching</th>\n",
       "      <th>international</th>\n",
       "      <th>research</th>\n",
       "      <th>citations</th>\n",
       "      <th>income</th>\n",
       "      <th>total_score</th>\n",
       "      <th>num_students</th>\n",
       "      <th>student_staff_ratio</th>\n",
       "      <th>international_students</th>\n",
       "      <th>female_male_ratio</th>\n",
       "      <th>year</th>\n",
       "    </tr>\n",
       "  </thead>\n",
       "  <tbody>\n",
       "    <tr>\n",
       "      <th>0</th>\n",
       "      <td>1</td>\n",
       "      <td>Harvard University</td>\n",
       "      <td>United States of America</td>\n",
       "      <td>99.7</td>\n",
       "      <td>72.4</td>\n",
       "      <td>98.7</td>\n",
       "      <td>98.8</td>\n",
       "      <td>34.5</td>\n",
       "      <td>96.1</td>\n",
       "      <td>462.0</td>\n",
       "      <td>8.9</td>\n",
       "      <td>NaN</td>\n",
       "      <td>NaN</td>\n",
       "      <td>2011</td>\n",
       "    </tr>\n",
       "    <tr>\n",
       "      <th>1</th>\n",
       "      <td>2</td>\n",
       "      <td>California Institute of Technology</td>\n",
       "      <td>United States of America</td>\n",
       "      <td>97.7</td>\n",
       "      <td>54.6</td>\n",
       "      <td>98.0</td>\n",
       "      <td>99.9</td>\n",
       "      <td>83.7</td>\n",
       "      <td>96.0</td>\n",
       "      <td>462.0</td>\n",
       "      <td>6.9</td>\n",
       "      <td>NaN</td>\n",
       "      <td>33 : 67</td>\n",
       "      <td>2011</td>\n",
       "    </tr>\n",
       "    <tr>\n",
       "      <th>2</th>\n",
       "      <td>3</td>\n",
       "      <td>Massachusetts Institute of Technology</td>\n",
       "      <td>United States of America</td>\n",
       "      <td>97.8</td>\n",
       "      <td>82.3</td>\n",
       "      <td>91.4</td>\n",
       "      <td>99.9</td>\n",
       "      <td>87.5</td>\n",
       "      <td>95.6</td>\n",
       "      <td>462.0</td>\n",
       "      <td>9.0</td>\n",
       "      <td>NaN</td>\n",
       "      <td>37 : 63</td>\n",
       "      <td>2011</td>\n",
       "    </tr>\n",
       "    <tr>\n",
       "      <th>3</th>\n",
       "      <td>4</td>\n",
       "      <td>Stanford University</td>\n",
       "      <td>United States of America</td>\n",
       "      <td>98.3</td>\n",
       "      <td>29.5</td>\n",
       "      <td>98.1</td>\n",
       "      <td>99.2</td>\n",
       "      <td>64.3</td>\n",
       "      <td>94.3</td>\n",
       "      <td>462.0</td>\n",
       "      <td>7.8</td>\n",
       "      <td>NaN</td>\n",
       "      <td>42 : 58</td>\n",
       "      <td>2011</td>\n",
       "    </tr>\n",
       "    <tr>\n",
       "      <th>4</th>\n",
       "      <td>5</td>\n",
       "      <td>Princeton University</td>\n",
       "      <td>United States of America</td>\n",
       "      <td>90.9</td>\n",
       "      <td>70.3</td>\n",
       "      <td>95.4</td>\n",
       "      <td>99.9</td>\n",
       "      <td>-</td>\n",
       "      <td>94.2</td>\n",
       "      <td>462.0</td>\n",
       "      <td>8.4</td>\n",
       "      <td>NaN</td>\n",
       "      <td>45 : 55</td>\n",
       "      <td>2011</td>\n",
       "    </tr>\n",
       "  </tbody>\n",
       "</table>\n",
       "</div>"
      ],
      "text/plain": [
       "  world_rank                        university_name                   country  \\\n",
       "0          1                     Harvard University  United States of America   \n",
       "1          2     California Institute of Technology  United States of America   \n",
       "2          3  Massachusetts Institute of Technology  United States of America   \n",
       "3          4                    Stanford University  United States of America   \n",
       "4          5                   Princeton University  United States of America   \n",
       "\n",
       "   teaching international  research  citations income total_score  \\\n",
       "0      99.7          72.4      98.7       98.8   34.5        96.1   \n",
       "1      97.7          54.6      98.0       99.9   83.7        96.0   \n",
       "2      97.8          82.3      91.4       99.9   87.5        95.6   \n",
       "3      98.3          29.5      98.1       99.2   64.3        94.3   \n",
       "4      90.9          70.3      95.4       99.9      -        94.2   \n",
       "\n",
       "   num_students  student_staff_ratio  international_students  \\\n",
       "0         462.0                  8.9                     NaN   \n",
       "1         462.0                  6.9                     NaN   \n",
       "2         462.0                  9.0                     NaN   \n",
       "3         462.0                  7.8                     NaN   \n",
       "4         462.0                  8.4                     NaN   \n",
       "\n",
       "  female_male_ratio  year  \n",
       "0               NaN  2011  \n",
       "1           33 : 67  2011  \n",
       "2           37 : 63  2011  \n",
       "3           42 : 58  2011  \n",
       "4           45 : 55  2011  "
      ]
     },
     "execution_count": 105,
     "metadata": {},
     "output_type": "execute_result"
    }
   ],
   "source": [
    "df_the_filled1.head()"
   ]
  },
  {
   "cell_type": "code",
   "execution_count": 106,
   "id": "18841f39-a68d-4d72-be74-08f9273724d1",
   "metadata": {},
   "outputs": [
    {
     "name": "stdout",
     "output_type": "stream",
     "text": [
      "  world_rank                        university_name                   country  \\\n",
      "0          1                     Harvard University  United States of America   \n",
      "1          2     California Institute of Technology  United States of America   \n",
      "2          3  Massachusetts Institute of Technology  United States of America   \n",
      "3          4                    Stanford University  United States of America   \n",
      "4          5                   Princeton University  United States of America   \n",
      "\n",
      "   teaching international  research  citations income total_score  \\\n",
      "0      99.7          72.4      98.7       98.8   34.5        96.1   \n",
      "1      97.7          54.6      98.0       99.9   83.7        96.0   \n",
      "2      97.8          82.3      91.4       99.9   87.5        95.6   \n",
      "3      98.3          29.5      98.1       99.2   64.3        94.3   \n",
      "4      90.9          70.3      95.4       99.9      -        94.2   \n",
      "\n",
      "   num_students  student_staff_ratio  year  \n",
      "0         462.0                  8.9  2011  \n",
      "1         462.0                  6.9  2011  \n",
      "2         462.0                  9.0  2011  \n",
      "3         462.0                  7.8  2011  \n",
      "4         462.0                  8.4  2011  \n"
     ]
    }
   ],
   "source": [
    "# Drop columns with missing values since not relevent for analysis\n",
    "columns_to_remove = [ 'international_students', 'female_male_ratio']\n",
    "df_the_filled1.drop(columns=columns_to_remove, inplace=True)\n",
    "\n",
    "# Check the updated DataFrame\n",
    "print(df_the_filled1.head())\n"
   ]
  },
  {
   "cell_type": "code",
   "execution_count": 107,
   "id": "e29546e0-7450-4195-beef-89c6df9259ff",
   "metadata": {},
   "outputs": [],
   "source": [
    "df_dups2 = df_the_filled1[df_the_filled1.duplicated()]"
   ]
  },
  {
   "cell_type": "code",
   "execution_count": 108,
   "id": "113fbb9e-7540-4e29-96a6-7bca924ad2e1",
   "metadata": {},
   "outputs": [
    {
     "data": {
      "text/html": [
       "<div>\n",
       "<style scoped>\n",
       "    .dataframe tbody tr th:only-of-type {\n",
       "        vertical-align: middle;\n",
       "    }\n",
       "\n",
       "    .dataframe tbody tr th {\n",
       "        vertical-align: top;\n",
       "    }\n",
       "\n",
       "    .dataframe thead th {\n",
       "        text-align: right;\n",
       "    }\n",
       "</style>\n",
       "<table border=\"1\" class=\"dataframe\">\n",
       "  <thead>\n",
       "    <tr style=\"text-align: right;\">\n",
       "      <th></th>\n",
       "      <th>world_rank</th>\n",
       "      <th>university_name</th>\n",
       "      <th>country</th>\n",
       "      <th>teaching</th>\n",
       "      <th>international</th>\n",
       "      <th>research</th>\n",
       "      <th>citations</th>\n",
       "      <th>income</th>\n",
       "      <th>total_score</th>\n",
       "      <th>num_students</th>\n",
       "      <th>student_staff_ratio</th>\n",
       "      <th>year</th>\n",
       "    </tr>\n",
       "  </thead>\n",
       "  <tbody>\n",
       "  </tbody>\n",
       "</table>\n",
       "</div>"
      ],
      "text/plain": [
       "Empty DataFrame\n",
       "Columns: [world_rank, university_name, country, teaching, international, research, citations, income, total_score, num_students, student_staff_ratio, year]\n",
       "Index: []"
      ]
     },
     "execution_count": 108,
     "metadata": {},
     "output_type": "execute_result"
    }
   ],
   "source": [
    "df_dups2 "
   ]
  },
  {
   "cell_type": "code",
   "execution_count": 110,
   "id": "1c5df271-cca1-49e1-8b74-3c3a21c3165d",
   "metadata": {},
   "outputs": [
    {
     "data": {
      "text/plain": [
       "world_rank              object\n",
       "university_name         object\n",
       "country                 object\n",
       "teaching               float64\n",
       "international           object\n",
       "research               float64\n",
       "citations              float64\n",
       "income                  object\n",
       "total_score             object\n",
       "num_students           float64\n",
       "student_staff_ratio    float64\n",
       "year                     int64\n",
       "dtype: object"
      ]
     },
     "execution_count": 110,
     "metadata": {},
     "output_type": "execute_result"
    }
   ],
   "source": [
    "df_the_filled1.dtypes"
   ]
  },
  {
   "cell_type": "code",
   "execution_count": 82,
   "id": "ff0cd3cd-9601-4f60-ab68-c1c48735fd42",
   "metadata": {},
   "outputs": [
    {
     "name": "stdout",
     "output_type": "stream",
     "text": [
      "          teaching     research    citations         year\n",
      "count  2603.000000  2603.000000  2603.000000  2603.000000\n",
      "mean     37.801498    35.910257    60.921629  2014.075682\n",
      "std      17.604218    21.254805    23.073219     1.685733\n",
      "min       9.900000     2.900000     1.200000  2011.000000\n",
      "25%      24.700000    19.600000    45.500000  2013.000000\n",
      "50%      33.900000    30.500000    62.500000  2014.000000\n",
      "75%      46.400000    47.250000    79.050000  2016.000000\n",
      "max      99.700000    99.400000   100.000000  2016.000000\n"
     ]
    }
   ],
   "source": [
    "# Apply describe to only numeric columns\n",
    "summary2 = df_the_filled.describe(include=[np.number])\n",
    "print(summary2)"
   ]
  },
  {
   "cell_type": "code",
   "execution_count": 111,
   "id": "8db870b7-db91-4e42-89e0-7b7dcc7ba044",
   "metadata": {},
   "outputs": [],
   "source": [
    "# Replace ' -' with NaN (Not a Number)\n",
    "df_the_filled1['income'] = df_the_filled1['income'].replace(' -', pd.NA)\n",
    "\n"
   ]
  },
  {
   "cell_type": "code",
   "execution_count": 114,
   "id": "fd75f38c-510c-4635-8cc6-d0fba54e1f5b",
   "metadata": {},
   "outputs": [],
   "source": [
    "df_the_filled1['income'] = pd.to_numeric(df_the_filled1['income'], errors='coerce')"
   ]
  },
  {
   "cell_type": "code",
   "execution_count": 97,
   "id": "e1997996-4548-4c16-b38c-563508588f32",
   "metadata": {},
   "outputs": [],
   "source": [
    "# Replace ' -' with NaN (Not a Number)\n",
    "df_the_filled1['total_score'] = df_the_filled1['total_score'].replace({' -': pd.NA, '-': pd.NA})\n",
    "df_the_filled1['international'] = df_the_filled1['international'].replace({' -': pd.NA, '-': pd.NA})"
   ]
  },
  {
   "cell_type": "code",
   "execution_count": 115,
   "id": "5b96d66d-833b-4de8-8027-04d319651172",
   "metadata": {},
   "outputs": [],
   "source": [
    "# Convert the columns to float type, coercing any invalid values to NaN\n",
    "df_the_filled1['total_score'] = pd.to_numeric(df_the_filled1['total_score'], errors='coerce')\n",
    "df_the_filled1['international'] = pd.to_numeric(df_the_filled1['international'], errors='coerce')"
   ]
  },
  {
   "cell_type": "code",
   "execution_count": 116,
   "id": "66a7664c-af71-46ff-bd2f-3446add9f43e",
   "metadata": {},
   "outputs": [
    {
     "name": "stdout",
     "output_type": "stream",
     "text": [
      "          teaching  international     research    citations       income  \\\n",
      "count  2603.000000    2594.000000  2603.000000  2603.000000  2385.000000   \n",
      "mean     37.801498      52.007440    35.910257    60.921629    48.979874   \n",
      "std      17.604218      22.103825    21.254805    23.073219    21.179938   \n",
      "min       9.900000       7.100000     2.900000     1.200000    24.200000   \n",
      "25%      24.700000      33.425000    19.600000    45.500000    33.000000   \n",
      "50%      33.900000      50.300000    30.500000    62.500000    41.000000   \n",
      "75%      46.400000      69.000000    47.250000    79.050000    59.000000   \n",
      "max      99.700000     100.000000    99.400000   100.000000   100.000000   \n",
      "\n",
      "       total_score  num_students  student_staff_ratio         year  \n",
      "count  1201.000000   2603.000000          2603.000000  2603.000000  \n",
      "mean     59.846128    462.117941            18.392124  2014.075682  \n",
      "std      12.803446      6.017295            11.333420     1.685733  \n",
      "min      41.400000    462.000000             0.600000  2011.000000  \n",
      "25%      50.300000    462.000000            12.050000  2013.000000  \n",
      "50%      56.000000    462.000000            16.100000  2014.000000  \n",
      "75%      66.200000    462.000000            21.200000  2016.000000  \n",
      "max      96.100000    769.000000           162.600000  2016.000000  \n"
     ]
    }
   ],
   "source": [
    "# Apply describe to only numeric columns\n",
    "summary2 = df_the_filled1.describe(include=[np.number])\n",
    "print(summary2)"
   ]
  },
  {
   "cell_type": "code",
   "execution_count": 117,
   "id": "d3a4fb61-a917-4bd7-a09f-db5a72707027",
   "metadata": {},
   "outputs": [],
   "source": [
    "#Export df_arwu_filtered\n",
    "df_the_filled1.to_csv(os.path.join(path, '02 Data','Prepared Data', 'df_the_filled.csv')) "
   ]
  },
  {
   "cell_type": "code",
   "execution_count": null,
   "id": "5b9e2da3-3140-4111-bf95-8db4105cd94b",
   "metadata": {},
   "outputs": [],
   "source": []
  }
 ],
 "metadata": {
  "kernelspec": {
   "display_name": "Python 3.12",
   "language": "python",
   "name": "python3.12"
  },
  "language_info": {
   "codemirror_mode": {
    "name": "ipython",
    "version": 3
   },
   "file_extension": ".py",
   "mimetype": "text/x-python",
   "name": "python",
   "nbconvert_exporter": "python",
   "pygments_lexer": "ipython3",
   "version": "3.12.7"
  }
 },
 "nbformat": 4,
 "nbformat_minor": 5
}
