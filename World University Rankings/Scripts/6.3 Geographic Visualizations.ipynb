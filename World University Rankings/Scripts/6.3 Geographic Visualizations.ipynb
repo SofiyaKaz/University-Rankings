{
 "cells": [
  {
   "cell_type": "markdown",
   "id": "01db7bf8-9743-41e4-a5e2-f272bfac9998",
   "metadata": {},
   "source": [
    "# 1. Import data and libraries"
   ]
  },
  {
   "cell_type": "code",
   "execution_count": null,
   "id": "f361ec4a-4918-4ca7-9571-01c04999974f",
   "metadata": {},
   "outputs": [],
   "source": [
    "import pandas as pd\n",
    "import numpy as np\n",
    "import seaborn as sns\n",
    "import matplotlib.pyplot as plt\n",
    "import matplotlib\n",
    "import os\n",
    "import folium\n",
    "import json"
   ]
  },
  {
   "cell_type": "code",
   "execution_count": null,
   "id": "67794915-823b-45eb-916a-cf6d1e9df22d",
   "metadata": {},
   "outputs": [],
   "source": [
    "%matplotlib inline"
   ]
  },
  {
   "cell_type": "code",
   "execution_count": null,
   "id": "f8908ec2-5f5b-4b8b-9826-0e13d98656f1",
   "metadata": {},
   "outputs": [],
   "source": [
    "# Step 1: Load the new geojson file (ensure 'countries.geojson' is in the same directory as the script)\n",
    "with open('countries.geojson', 'r') as f:\n",
    "    country_geo = json.load(f)"
   ]
  },
  {
   "cell_type": "code",
   "execution_count": null,
   "id": "ca326428-7712-4fd9-9cb1-8fde162c3c8c",
   "metadata": {},
   "outputs": [],
   "source": [
    "# Assuming each 'feature' in the 'features' list of the GeoJSON has a 'properties' dictionary with a 'name' key for the country name\n",
    "geo_countries = [feature['properties']['ADMIN'] for feature in country_geo['features']]"
   ]
  },
  {
   "cell_type": "code",
   "execution_count": null,
   "id": "afb39504-d387-4796-ae7c-895a13bce4e2",
   "metadata": {},
   "outputs": [],
   "source": [
    "# Import data\n",
    "\n",
    "df_cwur = pd.read_csv(os.path.join(path, '02 Data', 'Original Data', 'cwurData.csv'), index_col = False)"
   ]
  },
  {
   "cell_type": "code",
   "execution_count": null,
   "id": "a735822b-8b46-422f-99e6-1399e000f9ae",
   "metadata": {},
   "outputs": [],
   "source": [
    "# Assuming 'df_cwur' contains a 'country' column\n",
    "df_cwur_countries = df_cwur['country'].unique().tolist()"
   ]
  },
  {
   "cell_type": "code",
   "execution_count": null,
   "id": "69ea8094-952f-490a-b427-620ef9459453",
   "metadata": {},
   "outputs": [],
   "source": [
    "# Step 4: Compare the two lists of countries\n",
    "missing_countries = [country for country in df_cwur_countries if country not in geo_countries]\n",
    "extra_countries = [country for country in geo_countries if country not in df_cwur_countries]"
   ]
  },
  {
   "cell_type": "code",
   "execution_count": null,
   "id": "1faf87a7-de85-4309-8bf1-b53e5985d3ec",
   "metadata": {},
   "outputs": [],
   "source": [
    "if not missing_countries:\n",
    "    print(\"All countries from df_cwur are present in the GeoJSON file.\")\n",
    "else:\n",
    "    print(f\"Countries missing in GeoJSON file: {missing_countries}\")\n",
    "\n",
    "if not extra_countries:\n",
    "    print(\"No extra countries in the GeoJSON file.\")\n",
    "else:\n",
    "    print(f\"Extra countries in the GeoJSON file: {extra_countries}\")"
   ]
  },
  {
   "cell_type": "code",
   "execution_count": null,
   "id": "bce1ce6f-77da-45e5-b5f7-d1b5a199b370",
   "metadata": {},
   "outputs": [],
   "source": [
    "country_name_mapping = {\n",
    "    \"USA\": \"United States of America\",\n",
    "    \"Hong Kong\": \"Hong Kong S.A.R.\",\n",
    "    \"Slovak Republic\": \"Slovakia\",\n",
    "    \"Serbia\": \"Republic of Serbia\"\n",
    "}\n"
   ]
  },
  {
   "cell_type": "code",
   "execution_count": null,
   "id": "42458bb9-e9d5-491a-b87e-4e8a5116c108",
   "metadata": {},
   "outputs": [],
   "source": [
    "df_cwur['country'] = df_cwur['country'].replace(country_name_mapping)\n"
   ]
  },
  {
   "cell_type": "code",
   "execution_count": null,
   "id": "a7cdc8a9-d57a-4b3e-b9f4-19d18cca0ca4",
   "metadata": {},
   "outputs": [],
   "source": [
    "print(df_cwur['country'].unique())"
   ]
  },
  {
   "cell_type": "code",
   "execution_count": null,
   "id": "59b921a1-c193-4019-9c4b-c8f68b4509d2",
   "metadata": {},
   "outputs": [],
   "source": [
    "df_cwur.head()"
   ]
  },
  {
   "cell_type": "code",
   "execution_count": null,
   "id": "3da5436d-6994-4147-a251-6955667f7bf1",
   "metadata": {},
   "outputs": [],
   "source": [
    "df_cwur.shape"
   ]
  },
  {
   "cell_type": "markdown",
   "id": "c51d578a-e32d-4bd4-9b04-d3776e560aa6",
   "metadata": {},
   "source": [
    "# 2.  Plotting a choropleth"
   ]
  },
  {
   "cell_type": "code",
   "execution_count": null,
   "id": "7d37ece4-51d0-4963-bef9-012134f48200",
   "metadata": {},
   "outputs": [],
   "source": [
    "# Create a data frame with just the states and the values for rating we want plotted\n",
    "\n",
    "data_to_plot = df_cwur[['world_rank','country']]\n",
    "data_to_plot.head()"
   ]
  },
  {
   "cell_type": "code",
   "execution_count": null,
   "id": "0c5006cc-5e86-4dfd-9b37-c84d03d0ca36",
   "metadata": {},
   "outputs": [],
   "source": [
    "# Setup a folium map at a high-level zoom\n",
    "map = folium.Map(location = [100, 0], zoom_start = 1.5)\n",
    "\n",
    "# Choropleth maps bind Pandas Data Frames and json geometries.This allows us to quickly visualize data combinations\n",
    "folium.Choropleth(\n",
    "    geo_data = country_geo, \n",
    "    data = data_to_plot,\n",
    "    columns = ['country','world_rank'],\n",
    "    key_on = 'feature.properties.ADMIN', \n",
    "    fill_color = 'YlOrBr', fill_opacity=0.6, line_opacity=0.1,\n",
    "    legend_name = \"Ranking\").add_to(map)\n",
    "folium.LayerControl().add_to(map)\n",
    "map"
   ]
  },
  {
   "cell_type": "code",
   "execution_count": null,
   "id": "16ee40fb-baa6-4143-94c3-5c04878ea635",
   "metadata": {},
   "outputs": [],
   "source": [
    "#Calculating average score\n",
    "aggregated_data = df_cwur.groupby('country')['score'].mean().reset_index()\n",
    "\n",
    "# Check the resulting DataFrame\n",
    "print(aggregated_data.head())\n"
   ]
  },
  {
   "cell_type": "code",
   "execution_count": null,
   "id": "5c12d619-c600-4943-8bf2-8461fd8c8369",
   "metadata": {},
   "outputs": [],
   "source": [
    "# Setup the folium map\n",
    "map = folium.Map(location=[100, 0], zoom_start=1.5)\n",
    "\n",
    "# Choropleth map\n",
    "folium.Choropleth(\n",
    "    geo_data=country_geo,  \n",
    "    data=aggregated_data,  # Data with average scores\n",
    "    columns=['country', 'score'],  \n",
    "    key_on='feature.properties.ADMIN',  \n",
    "    fill_color='YlOrBr', fill_opacity=0.6, line_opacity=0.1,\n",
    "    legend_name=\"Average Score\"  # Legend label\n",
    ").add_to(map)\n",
    "\n",
    "folium.LayerControl().add_to(map)\n",
    "\n",
    "# Show map\n",
    "map"
   ]
  },
  {
   "cell_type": "code",
   "execution_count": null,
   "id": "5404d2c5-b02b-40c5-bbdb-81ea60e33e27",
   "metadata": {},
   "outputs": [],
   "source": [
    "# Calculate the average rank for each country\n",
    "aggregated_ranks = df_cwur.groupby('country')['world_rank'].mean().reset_index()\n",
    "\n",
    "# Invert the rank to make it easier to visualize (lower rank is better)\n",
    "aggregated_ranks['rank_inverted'] = 1 / aggregated_ranks['world_rank']\n",
    "\n",
    "# Check the resulting DataFrame\n",
    "print(aggregated_ranks.head())\n"
   ]
  },
  {
   "cell_type": "code",
   "execution_count": null,
   "id": "45f913be-e294-4b35-a1fd-0aef952d2ca7",
   "metadata": {},
   "outputs": [],
   "source": [
    "# Setup the folium map\n",
    "map = folium.Map(location=[100, 0], zoom_start=1.5)\n",
    "\n",
    "# Choropleth map\n",
    "folium.Choropleth(\n",
    "    geo_data=country_geo,  \n",
    "    data=aggregated_ranks, \n",
    "    columns=['country', 'rank_inverted'],  # 'country' and 'rank_inverted' columns\n",
    "    key_on='feature.properties.ADMIN', \n",
    "    fill_color='YlOrBr', fill_opacity=0.6, line_opacity=0.1,\n",
    "    legend_name=\"Inverted Rank\"  \n",
    ").add_to(map)\n",
    "\n",
    "folium.LayerControl().add_to(map)\n",
    "\n",
    "# Show map\n",
    "map"
   ]
  },
  {
   "cell_type": "code",
   "execution_count": null,
   "id": "eb71b8b3-d310-48b5-a0a9-dc39b6a8089c",
   "metadata": {},
   "outputs": [],
   "source": [
    "top_100_universities = df_cwur[df_cwur['world_rank'] <= 100]\n"
   ]
  },
  {
   "cell_type": "code",
   "execution_count": null,
   "id": "a2ef4db4-6169-4227-9957-b542eec3b8a4",
   "metadata": {},
   "outputs": [],
   "source": [
    "top_100_by_country = top_100_universities.groupby(['country', 'year']).size()\n"
   ]
  },
  {
   "cell_type": "code",
   "execution_count": null,
   "id": "6a9c6ed1-fa05-4698-be04-fe9834dad2a6",
   "metadata": {},
   "outputs": [],
   "source": [
    "total_top_100_global = top_100_universities.groupby('year').size()\n"
   ]
  },
  {
   "cell_type": "code",
   "execution_count": null,
   "id": "0a4297cd-9e91-4d8d-9f33-600593ad7db8",
   "metadata": {},
   "outputs": [],
   "source": [
    "top_100_percent_per_country = (top_100_by_country / total_top_100_global) * 100\n",
    "\n",
    "top_100_percent_per_country = top_100_percent_per_country.reset_index(name='percentage')\n",
    "\n",
    "print(top_100_percent_per_country.head())"
   ]
  },
  {
   "cell_type": "code",
   "execution_count": null,
   "id": "14e2935e-5b4b-4aea-aa59-7a4c4b743349",
   "metadata": {},
   "outputs": [],
   "source": [
    "top_100_percentage_2015 = top_100_percent_per_country[top_100_percent_per_country['year'] == 2015]\n"
   ]
  },
  {
   "cell_type": "code",
   "execution_count": null,
   "id": "5f69e9bd-09d7-481b-bfea-652ab1540073",
   "metadata": {},
   "outputs": [],
   "source": [
    "# Create a dictionary mapping country names to their percentage for 2015\n",
    "country_percentage_map_2015 = top_100_percentage_2015.set_index('country')['percentage'].to_dict()\n"
   ]
  },
  {
   "cell_type": "code",
   "execution_count": null,
   "id": "8e978afc-3b57-4c13-8bc0-f5f879166096",
   "metadata": {},
   "outputs": [],
   "source": [
    "# Set up the Folium map\n",
    "map_2015 = folium.Map(location=[100, 0], zoom_start=2)\n",
    "\n",
    "# Create the choropleth layer for 2015\n",
    "folium.Choropleth(\n",
    "    geo_data=country_geo,\n",
    "    data=country_percentage_map_2015,\n",
    "    key_on='feature.properties.ADMIN',  \n",
    "    fill_color='YlOrBr',  # Color scale for the choropleth map\n",
    "    fill_opacity=0.6,\n",
    "    line_opacity=0.1,\n",
    "    legend_name=\"Top 100 Universities (%) - 2015\",\n",
    ").add_to(map_2015)\n",
    "\n",
    "# Display the map\n",
    "map_2015"
   ]
  },
  {
   "cell_type": "markdown",
   "id": "a0b0d8f6-6bd2-4fcd-982c-329a02159c63",
   "metadata": {},
   "source": [
    "# using geographic analysis we can answer the following questions:\n",
    "•Which countries have the most highly-ranked universities?\n",
    "As per the latest map we can see that the UShas the biggest % of highly-ranked universities according to 2015\n",
    "\n",
    "•How do different regions (e.g., North America, Europe, Asia) perform in global university rankings? - according to the map North America and Europe appear to dominate the rankings.\n",
    "\n"
   ]
  },
  {
   "cell_type": "code",
   "execution_count": null,
   "id": "2dedd7cb-5046-481f-b8b4-b5cdcf07127e",
   "metadata": {},
   "outputs": [],
   "source": []
  }
 ],
 "metadata": {
  "kernelspec": {
   "display_name": "Python 3.12",
   "language": "python",
   "name": "python3.12"
  },
  "language_info": {
   "codemirror_mode": {
    "name": "ipython",
    "version": 3
   },
   "file_extension": ".py",
   "mimetype": "text/x-python",
   "name": "python",
   "nbconvert_exporter": "python",
   "pygments_lexer": "ipython3",
   "version": "3.12.7"
  }
 },
 "nbformat": 4,
 "nbformat_minor": 5
}
