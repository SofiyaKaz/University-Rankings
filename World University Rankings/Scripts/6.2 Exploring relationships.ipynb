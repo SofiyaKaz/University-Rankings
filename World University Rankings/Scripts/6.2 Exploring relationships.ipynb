{
 "cells": [
  {
   "cell_type": "markdown",
   "id": "fdbf22c4-07b9-4b32-a2ac-0fcb7ab3d52d",
   "metadata": {},
   "source": [
    "# 6.2 Exploring relationships"
   ]
  },
  {
   "cell_type": "markdown",
   "id": "240475e7-f12a-43f1-a70d-3cd497b8845c",
   "metadata": {
    "jp-MarkdownHeadingCollapsed": true
   },
   "source": [
    "1. Importing Visualization Libraries and Data"
   ]
  },
  {
   "cell_type": "code",
   "execution_count": null,
   "id": "54eb67aa-c045-4707-8599-ef0bfcffab75",
   "metadata": {},
   "outputs": [],
   "source": [
    "import pandas as pd\n",
    "import numpy as np\n",
    "import seaborn as sns\n",
    "import matplotlib.pyplot as plt\n",
    "import matplotlib\n"
   ]
  },
  {
   "cell_type": "code",
   "execution_count": null,
   "id": "08bdf919-f8f5-4111-863d-c2fc10a27f55",
   "metadata": {},
   "outputs": [],
   "source": [
    "#Charts to display \n",
    "%matplotlib inline"
   ]
  },
  {
   "cell_type": "code",
   "execution_count": null,
   "id": "3011bd5f-f717-4f4b-bd94-f6c23f8959e2",
   "metadata": {},
   "outputs": [],
   "source": [
    "# Import data\n",
    "\n",
    "df_cwur = pd.read_csv(os.path.join(path, '02 Data', 'Original Data', 'cwurData.csv'), index_col = False)"
   ]
  },
  {
   "cell_type": "code",
   "execution_count": null,
   "id": "3107cd85-0d10-41ab-932e-369766c385fc",
   "metadata": {},
   "outputs": [],
   "source": [
    "df_cwur.head()"
   ]
  },
  {
   "cell_type": "markdown",
   "id": "3d7431a4-3000-4c05-b1dd-14905072385d",
   "metadata": {},
   "source": [
    "# Correlations:"
   ]
  },
  {
   "cell_type": "code",
   "execution_count": null,
   "id": "d7acb34a-80df-4fac-a3c2-b72b3042b163",
   "metadata": {},
   "outputs": [],
   "source": [
    "# Create a subset excluding the \"institution\" and \"country\" columns\n",
    "\n",
    "sub = df_cwur[['world_rank', 'national_rank', 'quality_of_education', 'alumni_employment', 'quality_of_faculty', 'publications', 'influence', 'citations', 'broad_impact', 'patents', 'score', 'year'\n",
    "]]"
   ]
  },
  {
   "cell_type": "code",
   "execution_count": null,
   "id": "723f49d4-ec35-4381-936c-451427932e58",
   "metadata": {},
   "outputs": [],
   "source": [
    "# Create a correlation matrix using pandas\n",
    "\n",
    "sub.corr()"
   ]
  },
  {
   "cell_type": "code",
   "execution_count": null,
   "id": "a5bd7fb4-c25a-4a3e-b251-dbf9c467aefd",
   "metadata": {},
   "outputs": [],
   "source": [
    "# Create a correlation heatmap using matplotlib\n",
    "\n",
    "plt.matshow(sub.corr())\n",
    "plt.show()"
   ]
  },
  {
   "cell_type": "code",
   "execution_count": null,
   "id": "8705abd4-70f2-4b16-b90a-5c06a9b06f36",
   "metadata": {},
   "outputs": [],
   "source": [
    "# Save figure\n",
    "plt.matshow(sub.corr())\n",
    "plt.savefig(\"correlation 1 matshow.png\") "
   ]
  },
  {
   "cell_type": "code",
   "execution_count": null,
   "id": "678ede76-62c1-48b8-a7cf-a4931952a38a",
   "metadata": {},
   "outputs": [],
   "source": [
    "# Add labels, a legend, and change the size of the heatmap\n",
    "\n",
    "f = plt.figure(figsize=(8, 8)) # figure size \n",
    "plt.matshow(sub.corr(), fignum=f.number) # type of plot\n",
    "plt.xticks(range(sub.shape[1]), sub.columns, fontsize=14, rotation=45) # x axis labels\n",
    "plt.yticks(range(sub.shape[1]), sub.columns, fontsize=14) # y axis labels\n",
    "cb = plt.colorbar() # add a colour legend (called colorbar)\n",
    "cb.ax.tick_params(labelsize=14) # add font size\n",
    "plt.title('Correlation Matrix', fontsize=14) # add title"
   ]
  },
  {
   "cell_type": "markdown",
   "id": "c142857a-f11f-4204-a1b6-17bff29d72ec",
   "metadata": {},
   "source": [
    "# Create a correlation heatmap using seaborn:"
   ]
  },
  {
   "cell_type": "code",
   "execution_count": null,
   "id": "c855ea20-7581-4de2-aa04-4c87932e6ccb",
   "metadata": {},
   "outputs": [],
   "source": [
    "# Create a subplot with matplotlib\n",
    "f,ax = plt.subplots(figsize=(10,10))\n",
    "\n",
    "# Create the correlation heatmap in seaborn \n",
    "corr = sns.heatmap(sub.corr(), annot = True, ax = ax) "
   ]
  },
  {
   "cell_type": "code",
   "execution_count": null,
   "id": "cab708bd-6164-488a-a684-17cedb26bfa6",
   "metadata": {},
   "outputs": [],
   "source": [
    "plt.show()"
   ]
  },
  {
   "cell_type": "code",
   "execution_count": null,
   "id": "f1f59f2c-7b09-4f15-bde8-f12755f5f808",
   "metadata": {},
   "outputs": [],
   "source": [
    "plt.savefig(\"correlation 2 seaborn.png\") "
   ]
  },
  {
   "cell_type": "markdown",
   "id": "98e668e9-2165-46c8-84f7-6d17a410e1a0",
   "metadata": {},
   "source": [
    " From the heatmap we can see that most of the variables have positive correlation with each other except for the Score - it has negative corrrelation with all the varibles and the strongest is with quality of faculty(-0.69), it's also quite strong with quality of education and world rank. The highest positive correlations are found among Publications, Influence, Citations, Broad Impact, and World Rank, all of which have correlation coefficients of 0.83 or higher."
   ]
  },
  {
   "cell_type": "markdown",
   "id": "121b5c31-7f6b-49cf-b17d-48bffdbaafe9",
   "metadata": {},
   "source": [
    "# Scatterplots:"
   ]
  },
  {
   "cell_type": "markdown",
   "id": "3c96c3c3-16a7-4e69-96fb-800434153f61",
   "metadata": {},
   "source": [
    "Create a scatterplot (or plots) for the variables with the strongest correlations"
   ]
  },
  {
   "cell_type": "code",
   "execution_count": null,
   "id": "5214f81a-6855-4225-8d22-8c4729437d52",
   "metadata": {},
   "outputs": [],
   "source": [
    "sns.lmplot(x = 'publications', y = 'citations', data = sub)\n",
    "plt.show()"
   ]
  },
  {
   "cell_type": "code",
   "execution_count": null,
   "id": "518f5c56-96c2-4b47-8e1e-f1092f32ba0d",
   "metadata": {},
   "outputs": [],
   "source": [
    "sns.lmplot(x = 'publications', y = 'influence', data = sub)\n",
    "plt.show()"
   ]
  },
  {
   "cell_type": "code",
   "execution_count": null,
   "id": "afffec18-2948-4d1a-b43b-35901e5c5244",
   "metadata": {},
   "outputs": [],
   "source": [
    "sns.lmplot(x = 'publications', y = 'broad_impact', data = sub)\n",
    "plt.show()"
   ]
  },
  {
   "cell_type": "code",
   "execution_count": null,
   "id": "21c3565b-9855-4988-8517-95f7cdc254fa",
   "metadata": {},
   "outputs": [],
   "source": [
    "sns.lmplot(x = 'citations', y = 'influence', data = sub)\n",
    "plt.show()"
   ]
  },
  {
   "cell_type": "code",
   "execution_count": null,
   "id": "ef8ab0bc-afe0-46e3-9041-f830e99a2ff9",
   "metadata": {},
   "outputs": [],
   "source": [
    "sns.lmplot(x = 'citations', y = 'broad_impact', data = sub)\n",
    "plt.show()"
   ]
  },
  {
   "cell_type": "code",
   "execution_count": null,
   "id": "d1a1ba3b-6e87-4b74-94e3-da6da1d304d8",
   "metadata": {},
   "outputs": [],
   "source": [
    "sns.lmplot(x = 'influence', y = 'broad_impact', data = sub)\n",
    "plt.show()"
   ]
  },
  {
   "cell_type": "code",
   "execution_count": null,
   "id": "ff2c6777-6023-47b4-abe6-055893341023",
   "metadata": {},
   "outputs": [],
   "source": [
    "plt.savefig(\"scatter_world rank_score.png\") "
   ]
  },
  {
   "cell_type": "code",
   "execution_count": null,
   "id": "9e82ba64-747b-4d1b-ae96-6e0ddef8e37a",
   "metadata": {},
   "outputs": [],
   "source": [
    "# Create a scatterplot for the \"world rank \" and \"publications\" columns in seaborn\n",
    "\n",
    "sns.lmplot(x = 'world_rank', y = 'publications', data = sub)\n",
    "plt.show()"
   ]
  },
  {
   "cell_type": "code",
   "execution_count": null,
   "id": "ef2c8211-fee5-400e-b1a9-5ad29fcd7759",
   "metadata": {},
   "outputs": [],
   "source": [
    "plt.savefig(\"scatter_world rank_publications.png\") "
   ]
  },
  {
   "cell_type": "code",
   "execution_count": null,
   "id": "211fed4f-12ae-46f6-8ea9-13e2b87e4df1",
   "metadata": {},
   "outputs": [],
   "source": [
    "# Create a scatterplot for the \"world rank \" and \"influence\" columns in seaborn\n",
    "\n",
    "sns.lmplot(x = 'world_rank', y = 'influence', data = sub)\n",
    "plt.show()\n",
    "plt.savefig(\"scatter_world rank_influence.png\") "
   ]
  },
  {
   "cell_type": "code",
   "execution_count": null,
   "id": "4b586611-bee9-4ff9-965f-97a7b89d56a6",
   "metadata": {},
   "outputs": [],
   "source": [
    "# Create a scatterplot for the \"world rank \" and \"citations\" columns in seaborn\n",
    "\n",
    "sns.lmplot(x = 'world_rank', y = 'citations', data = sub)\n",
    "plt.show()\n",
    "plt.savefig(\"scatter_world rank_citations.png\") "
   ]
  },
  {
   "cell_type": "code",
   "execution_count": null,
   "id": "daa9b4b5-5701-4ffa-ba14-78fc7b178df6",
   "metadata": {},
   "outputs": [],
   "source": [
    "# Create a scatterplot for the \"world rank \" and \"broad_impact\" columns in seaborn\n",
    "\n",
    "sns.lmplot(x = 'world_rank', y = 'broad_impact', data = sub)\n",
    "plt.show()\n",
    "plt.savefig(\"scatter_world rank_broad_impact.png\") "
   ]
  },
  {
   "cell_type": "code",
   "execution_count": null,
   "id": "b08b3de2-1213-4492-b47f-50aa5043c2ce",
   "metadata": {},
   "outputs": [],
   "source": [
    "# Create a scatterplot for the \"world rank \" and \"publications\" columns in seaborn\n",
    "\n",
    "sns.lmplot(x = 'world_rank', y = 'score', data = sub)\n",
    "plt.show()"
   ]
  },
  {
   "cell_type": "markdown",
   "id": "6052fbb7-ca1e-45af-a2c3-e96fc2ee4ce0",
   "metadata": {},
   "source": [
    "According to the scatter plots we can see that there is a linear and strong correlation especially between world rank and publications/influence/broad_impact. There are some outliners that can investigated further."
   ]
  },
  {
   "cell_type": "markdown",
   "id": "64c2e515-ebd7-4cab-8a38-87738ed426a2",
   "metadata": {},
   "source": [
    "# Pair Plots:"
   ]
  },
  {
   "cell_type": "code",
   "execution_count": null,
   "id": "35e0a25b-d241-4029-ab28-61f74bc2f148",
   "metadata": {},
   "outputs": [],
   "source": [
    "# Create a pair plot \n",
    "\n",
    "g = sns.pairplot(df_cwur)\n",
    "plt.show()\n"
   ]
  },
  {
   "cell_type": "markdown",
   "id": "059b104c-5a08-429b-bc65-f067caf37b4e",
   "metadata": {},
   "source": [
    "The closest correlations were confirmed (world rank/publications/influence/broad_impact)\n"
   ]
  },
  {
   "cell_type": "markdown",
   "id": "1b6c264c-eea5-4287-a6b7-4bc13c654d9f",
   "metadata": {},
   "source": [
    "# Categorical Plots:"
   ]
  },
  {
   "cell_type": "code",
   "execution_count": null,
   "id": "f61e4cb8-baa9-46e3-8edd-9098136165e2",
   "metadata": {},
   "outputs": [],
   "source": [
    "sns.histplot(df_cwur['publications'], bins = 20, kde = True)"
   ]
  },
  {
   "cell_type": "code",
   "execution_count": null,
   "id": "b9c6a7c8-e151-4e0a-a216-975731aac6d0",
   "metadata": {},
   "outputs": [],
   "source": [
    "plt.show()"
   ]
  },
  {
   "cell_type": "code",
   "execution_count": null,
   "id": "32ed6a6e-dd50-42da-95ca-4cc80337ae57",
   "metadata": {},
   "outputs": [],
   "source": [
    "df_cwur.loc[df_cwur['publications'] <50, 'Publications level'] = 'Few publications'"
   ]
  },
  {
   "cell_type": "code",
   "execution_count": null,
   "id": "03cd94e3-ec7f-441d-992a-68c33b2b291a",
   "metadata": {},
   "outputs": [],
   "source": [
    "df_cwur.loc[(df_cwur['publications'] >= 50) & (df_cwur['publications'] <150), 'Publications level'] = 'Medium publications'"
   ]
  },
  {
   "cell_type": "code",
   "execution_count": null,
   "id": "342bba2b-f316-45e9-b7a3-df2a3bb352ab",
   "metadata": {},
   "outputs": [],
   "source": [
    "df_cwur.loc[df_cwur['publications'] >=150, 'Publications level'] = 'High publications'"
   ]
  },
  {
   "cell_type": "code",
   "execution_count": null,
   "id": "08853f97-fe83-403e-8fae-9c9ba4aed9d3",
   "metadata": {},
   "outputs": [],
   "source": [
    "df_cwur['Publications level'].value_counts(dropna = False)"
   ]
  },
  {
   "cell_type": "code",
   "execution_count": null,
   "id": "7b97477e-f941-4f97-9bde-df4b2d12ec13",
   "metadata": {},
   "outputs": [],
   "source": [
    "# Create a categorical plot in seaborn using the publications created above\n",
    "\n",
    "sns.set(style=\"ticks\")\n",
    "g = sns.catplot(x=\"world_rank\", y=\"publications\", hue=\"Publications level\", data=df_cwur)"
   ]
  },
  {
   "cell_type": "code",
   "execution_count": null,
   "id": "d96cc64d-86e2-4c92-87f4-1e030a76dad6",
   "metadata": {},
   "outputs": [],
   "source": [
    "plt.show()"
   ]
  },
  {
   "cell_type": "code",
   "execution_count": null,
   "id": "353c6500-5779-4e5e-b20f-0d261c934bfa",
   "metadata": {},
   "outputs": [],
   "source": [
    "# Create a categorical plot in seaborn using the publications created above\n",
    "\n",
    "sns.set(style=\"ticks\")\n",
    "g = sns.catplot(x=\"score\", y=\"publications\", hue=\"Publications level\", data=df_cwur)"
   ]
  },
  {
   "cell_type": "code",
   "execution_count": null,
   "id": "51849d2a-68d3-4c11-baee-b81776613544",
   "metadata": {},
   "outputs": [],
   "source": [
    "plt.show()"
   ]
  },
  {
   "cell_type": "code",
   "execution_count": null,
   "id": "2ceece4e-beaa-4565-ba9f-cb6071a82d80",
   "metadata": {},
   "outputs": [],
   "source": [
    "sns.histplot(df_cwur['score'], bins = 50, kde = True)\n",
    "plt.show()"
   ]
  },
  {
   "cell_type": "code",
   "execution_count": null,
   "id": "46af2d30-8214-40cb-8088-07aafa909026",
   "metadata": {},
   "outputs": [],
   "source": [
    "df_cwur.loc[df_cwur['score'] <50, 'Score level'] = 'law'"
   ]
  },
  {
   "cell_type": "code",
   "execution_count": null,
   "id": "902fc332-feeb-4f3d-b09d-8d216f2b8934",
   "metadata": {},
   "outputs": [],
   "source": [
    "df_cwur.loc[(df_cwur['score'] >= 50) & (df_cwur['score'] <60), 'Score level'] = 'Medium'"
   ]
  },
  {
   "cell_type": "code",
   "execution_count": null,
   "id": "38c9b6a5-6f9c-4b3f-b5c2-2346d1c6f191",
   "metadata": {},
   "outputs": [],
   "source": [
    "df_cwur.loc[df_cwur['score'] >=60, 'Score level'] = 'High'"
   ]
  },
  {
   "cell_type": "code",
   "execution_count": null,
   "id": "549740b8-5968-4393-bfee-b3125293ce0b",
   "metadata": {},
   "outputs": [],
   "source": [
    "df_cwur['Score level'].value_counts(dropna = False)"
   ]
  },
  {
   "cell_type": "code",
   "execution_count": null,
   "id": "664d7287-f349-4b7a-b169-48eed4eafdc6",
   "metadata": {},
   "outputs": [],
   "source": [
    "\n",
    "\n",
    "g = sns.catplot(x=\"world_rank\", y=\"score\", hue=\"Score level\", data=df_cwur, height=8, aspect=2)\n",
    "\n",
    "# Show only every 50th label \n",
    "plt.xticks(ticks=np.arange(0, len(df_cwur['world_rank']), step=50), rotation=90)  \n",
    "plt.show()\n"
   ]
  },
  {
   "attachments": {},
   "cell_type": "markdown",
   "id": "c3bbbad6-960b-4f64-a168-b741170d7c97",
   "metadata": {},
   "source": [
    "Exploring relationships can help to answer the following question- What factors (research output, faculty quality, citations, etc) most influence university rankings?\n",
    "\n",
    "Acoording to the analysis above it was revealed that the highest positive correlations are found among Publications, Influence, Citations, Broad Impact, and World Rank, all of which have correlation coefficients of 0.83 or higher. However after some research I've found out Why is the correlation between score and factors lower than with world_rank? The score is made up of several factors (like research output, faculty quality, etc.), and each of these factors is weighted differently. Because it’s an average of many factors, small changes in one factor might not cause a big change in the overall score. This is why the correlation between the score and each factor is lower.\n",
    "\n",
    "The world_rank shows a university's relative position compared to others (like 1st, 2nd, 3rd). A small change in a factor, like publications, can push a university's rank up or down, making the correlation with world_rank stronger. This is because ranks are ordinal (they represent a position) and even small differences in performance can lead to a larger shift in rank.\n"
   ]
  },
  {
   "cell_type": "code",
   "execution_count": null,
   "id": "c04352f8-b0c3-4fce-989b-843b8bfb5699",
   "metadata": {},
   "outputs": [],
   "source": []
  },
  {
   "cell_type": "code",
   "execution_count": null,
   "id": "2916d908-1c94-49b5-9687-86379c5a63d7",
   "metadata": {},
   "outputs": [],
   "source": []
  }
 ],
 "metadata": {
  "kernelspec": {
   "display_name": "Python 3.12",
   "language": "python",
   "name": "python3.12"
  },
  "language_info": {
   "codemirror_mode": {
    "name": "ipython",
    "version": 3
   },
   "file_extension": ".py",
   "mimetype": "text/x-python",
   "name": "python",
   "nbconvert_exporter": "python",
   "pygments_lexer": "ipython3",
   "version": "3.12.7"
  }
 },
 "nbformat": 4,
 "nbformat_minor": 5
}
